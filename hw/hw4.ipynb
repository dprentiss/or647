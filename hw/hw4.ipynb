{
 "cells": [
  {
   "cell_type": "code",
   "execution_count": 1,
   "metadata": {},
   "outputs": [],
   "source": [
    "from math import factorial\n",
    "import numpy as np"
   ]
  },
  {
   "cell_type": "code",
   "execution_count": 2,
   "metadata": {},
   "outputs": [],
   "source": [
    "def erlangB(c, r):\n",
    "    B = 1 # B(0, r) = 1\n",
    "    for i in range(1, c+1): # i from 1 to c\n",
    "        B = r * B / (i + r * B)\n",
    "        #print(i, r, B) # print intermediate results eoau \n",
    "    return B"
   ]
  },
  {
   "cell_type": "code",
   "execution_count": 3,
   "metadata": {},
   "outputs": [],
   "source": [
    "def erlangC(c, r):\n",
    "    B = erlangB(c, r)\n",
    "    return c * B / (c - r + r * B)"
   ]
  },
  {
   "cell_type": "markdown",
   "metadata": {},
   "source": [
    "# Problem 3"
   ]
  },
  {
   "cell_type": "code",
   "execution_count": 4,
   "metadata": {},
   "outputs": [
    {
     "data": {
      "text/plain": [
       "0.9767133242295406"
      ]
     },
     "execution_count": 4,
     "metadata": {},
     "output_type": "execute_result"
    }
   ],
   "source": [
    "c = 400\n",
    "r = 360\n",
    "1 - erlangC(c, r)"
   ]
  },
  {
   "cell_type": "code",
   "execution_count": 5,
   "metadata": {},
   "outputs": [
    {
     "name": "stdout",
     "output_type": "stream",
     "text": [
      "[360, 378.0, 396.90000000000003, 416.74500000000006, 437.5822500000001, 459.4613625000001]\n"
     ]
    }
   ],
   "source": [
    "c = 450\n",
    "r = [360]\n",
    "for i in range(5):\n",
    "    r.append(r[-1] * 1.05)\n",
    "print(r)"
   ]
  },
  {
   "cell_type": "code",
   "execution_count": 6,
   "metadata": {},
   "outputs": [
    {
     "name": "stdout",
     "output_type": "stream",
     "text": [
      "[0.9999971803782105, 0.999815931275941, 0.9947032998948981, 0.931138048098909, 0.5562709637779182, -0.6631122396115139]\n"
     ]
    }
   ],
   "source": [
    "C = [1 - erlangC(c, i) for i in r]\n",
    "print(C)"
   ]
  },
  {
   "cell_type": "markdown",
   "metadata": {},
   "source": [
    "# Problem 4"
   ]
  },
  {
   "cell_type": "code",
   "execution_count": 7,
   "metadata": {},
   "outputs": [],
   "source": [
    "lam = 8\n",
    "mu = 2\n",
    "r = lam/mu\n",
    "c = [i for i in range(1,15)]"
   ]
  },
  {
   "cell_type": "code",
   "execution_count": 8,
   "metadata": {},
   "outputs": [],
   "source": [
    "C = [(i, round(1-erlangC(i,r),3)) for i in c]"
   ]
  },
  {
   "cell_type": "code",
   "execution_count": 9,
   "metadata": {},
   "outputs": [
    {
     "name": "stdout",
     "output_type": "stream",
     "text": [
      "1 & -3.0 \\\\\n",
      "2 & -1.667 \\\\\n",
      "3 & -0.684 \\\\\n",
      "4 & 0.0 \\\\\n",
      "5 & 0.446 \\\\\n",
      "6 & 0.715 \\\\\n",
      "7 & 0.865 \\\\\n",
      "8 & 0.941 \\\\\n",
      "9 & 0.976 \\\\\n",
      "10 & 0.991 \\\\\n",
      "11 & 0.997 \\\\\n",
      "12 & 0.999 \\\\\n",
      "13 & 1.0 \\\\\n",
      "14 & 1.0 \\\\\n"
     ]
    }
   ],
   "source": [
    "for i in range(len(C)):\n",
    "    print(f'{C[i][0]} & {round(C[i][1],4)} \\\\\\\\')"
   ]
  },
  {
   "cell_type": "markdown",
   "metadata": {},
   "source": [
    "# Problem 5 (3.50)"
   ]
  },
  {
   "cell_type": "markdown",
   "metadata": {},
   "source": [
    "## 5 (b)"
   ]
  },
  {
   "cell_type": "code",
   "execution_count": 10,
   "metadata": {},
   "outputs": [
    {
     "name": "stdout",
     "output_type": "stream",
     "text": [
      "2.5 1.25 8\n"
     ]
    }
   ],
   "source": [
    "c = 2\n",
    "lam = 10\n",
    "mu = 4\n",
    "r = lam / mu\n",
    "rho = r / c\n",
    "K = 6 + c\n",
    "print(r, rho, K)"
   ]
  },
  {
   "cell_type": "code",
   "execution_count": 11,
   "metadata": {},
   "outputs": [
    {
     "name": "stdout",
     "output_type": "stream",
     "text": [
      "0.019761031906033785\n"
     ]
    }
   ],
   "source": [
    "n = r**c * (1 - rho**(K - c + 1))\n",
    "d = factorial(c)*(1-rho)\n",
    "s = sum([r**i/factorial(i) for i in range(c)])\n",
    "p_0 = 1 / (n/d + s)\n",
    "print(p_0)"
   ]
  },
  {
   "cell_type": "code",
   "execution_count": 12,
   "metadata": {},
   "outputs": [
    {
     "name": "stdout",
     "output_type": "stream",
     "text": [
      "0.2355698574308608\n"
     ]
    }
   ],
   "source": [
    "p_K = lam**K / (c**(K-c) * factorial(c) * mu**K) * p_0\n",
    "print(p_K)"
   ]
  },
  {
   "cell_type": "markdown",
   "metadata": {},
   "source": [
    "# Problem 6 (3.50)"
   ]
  },
  {
   "cell_type": "markdown",
   "metadata": {},
   "source": [
    "## 5 (a)"
   ]
  },
  {
   "cell_type": "code",
   "execution_count": 13,
   "metadata": {},
   "outputs": [
    {
     "name": "stdout",
     "output_type": "stream",
     "text": [
      "15.0 2.0 0.5\n"
     ]
    }
   ],
   "source": [
    "c = 4\n",
    "lam = 30\n",
    "mu = 1/4*60\n",
    "r = lam / mu\n",
    "rho = r / c\n",
    "print(mu, r, rho)"
   ]
  },
  {
   "cell_type": "code",
   "execution_count": 14,
   "metadata": {},
   "outputs": [
    {
     "name": "stdout",
     "output_type": "stream",
     "text": [
      "0.09523809523809523\n"
     ]
    }
   ],
   "source": [
    "p_4 = erlangB(c,r)\n",
    "print(p_4)"
   ]
  },
  {
   "cell_type": "markdown",
   "metadata": {},
   "source": [
    "## 5 (a)"
   ]
  },
  {
   "cell_type": "code",
   "execution_count": 15,
   "metadata": {},
   "outputs": [
    {
     "name": "stdout",
     "output_type": "stream",
     "text": [
      "0.4 0.09523809523809523 0.01801801801801802\n"
     ]
    }
   ],
   "source": [
    "p_2 = erlangB(2,r)\n",
    "p_6 = erlangC(6,r)\n",
    "print(p_2, p_4, p_6)"
   ]
  },
  {
   "cell_type": "code",
   "execution_count": 16,
   "metadata": {},
   "outputs": [
    {
     "name": "stdout",
     "output_type": "stream",
     "text": [
      "[ 476.19047619 1217.39130435 1964.60176991] [19.84126984 50.72463768 81.85840708]\n"
     ]
    }
   ],
   "source": [
    "p_c = np.array([p_2,p_4,p_6])\n",
    "C_c = np.array([1e4,2e4,3e4])\n",
    "t_c = C_c/(0.5*lam*(1-p_c)+lam*p_c)\n",
    "print(t_c, t_c/24)"
   ]
  },
  {
   "cell_type": "code",
   "execution_count": 17,
   "metadata": {},
   "outputs": [
    {
     "name": "stdout",
     "output_type": "stream",
     "text": [
      "0.4 & 19.841 \\\\\n",
      "0.095 & 50.725 \\\\\n",
      "0.018 & 81.858 \\\\\n"
     ]
    }
   ],
   "source": [
    "for i in range(len(p_c)):\n",
    "    print(f'{round(p_c[i],3)} & {round(t_c[i]/24,3)} \\\\\\\\')"
   ]
  },
  {
   "cell_type": "markdown",
   "metadata": {},
   "source": [
    "# 7"
   ]
  },
  {
   "cell_type": "markdown",
   "metadata": {},
   "source": [
    "## 7 (a)"
   ]
  },
  {
   "cell_type": "code",
   "execution_count": 18,
   "metadata": {},
   "outputs": [
    {
     "name": "stdout",
     "output_type": "stream",
     "text": [
      "4.0 1.0\n"
     ]
    }
   ],
   "source": [
    "c = 4\n",
    "lam = 20\n",
    "mu = 5\n",
    "K = 7\n",
    "r = lam / mu\n",
    "rho = r / c\n",
    "print(r, rho)"
   ]
  },
  {
   "cell_type": "code",
   "execution_count": 19,
   "metadata": {},
   "outputs": [
    {
     "name": "stdout",
     "output_type": "stream",
     "text": [
      "0.015075376884422112\n"
     ]
    }
   ],
   "source": [
    "n = r**c * (K - c + 1)\n",
    "d = factorial(c)\n",
    "s = sum([r**i/factorial(i) for i in range(c)])\n",
    "p_0 = 1 / (n/d + s)\n",
    "print(p_0)"
   ]
  },
  {
   "cell_type": "code",
   "execution_count": 20,
   "metadata": {},
   "outputs": [
    {
     "name": "stdout",
     "output_type": "stream",
     "text": [
      "[0, 1, 2, 3]\n",
      "[0.015075376884422112, 0.06030150753768845, 0.1206030150753769, 0.16080402010050251]\n"
     ]
    }
   ],
   "source": [
    "n = []\n",
    "p_n = []\n",
    "N = [i for i in range(c)]\n",
    "p_N = [lam**i / (factorial(i) * mu**i) * p_0 for i in N]\n",
    "n = n + N\n",
    "p_n = p_n + p_N\n",
    "print(n)\n",
    "print(p_n)"
   ]
  },
  {
   "cell_type": "code",
   "execution_count": 21,
   "metadata": {},
   "outputs": [],
   "source": [
    "N = [i for i in range(c,K+1)]\n",
    "p_N = [lam**i / (c**(i-c) * factorial(c) * mu**i) * p_0 for i in N] \n",
    "n = n + N\n",
    "p_n = p_n + p_N"
   ]
  },
  {
   "cell_type": "code",
   "execution_count": 22,
   "metadata": {},
   "outputs": [
    {
     "name": "stdout",
     "output_type": "stream",
     "text": [
      "0 & 0.0151 \\\\\n",
      "1 & 0.0603 \\\\\n",
      "2 & 0.1206 \\\\\n",
      "3 & 0.1608 \\\\\n",
      "4 & 0.1608 \\\\\n",
      "5 & 0.1608 \\\\\n",
      "6 & 0.1608 \\\\\n",
      "7 & 0.1608 \\\\\n"
     ]
    }
   ],
   "source": [
    "for i in range(len(p_n)):\n",
    "    print(f'{n[i]} & {round(p_n[i],4)} \\\\\\\\')"
   ]
  },
  {
   "cell_type": "markdown",
   "metadata": {},
   "source": [
    "## 7 (b)"
   ]
  },
  {
   "cell_type": "code",
   "execution_count": 23,
   "metadata": {},
   "outputs": [
    {
     "data": {
      "text/plain": [
       "0.5175879396984925"
      ]
     },
     "execution_count": 23,
     "metadata": {},
     "output_type": "execute_result"
    }
   ],
   "source": [
    "sum(p_n[:5])"
   ]
  },
  {
   "cell_type": "markdown",
   "metadata": {},
   "source": [
    "## 7 (c)"
   ]
  },
  {
   "cell_type": "code",
   "execution_count": 24,
   "metadata": {},
   "outputs": [
    {
     "name": "stdout",
     "output_type": "stream",
     "text": [
      "[0.16080402010050251, 0.32160804020100503, 0.4824120603015075] 0.964824120603015\n"
     ]
    }
   ],
   "source": [
    "s = [(i-c)*p_n[i] for i in range(c+1,K+1)]\n",
    "L_q = sum(s)\n",
    "print(s, L_q)"
   ]
  },
  {
   "cell_type": "markdown",
   "metadata": {},
   "source": [
    "## 7 (d)"
   ]
  },
  {
   "cell_type": "code",
   "execution_count": 25,
   "metadata": {},
   "outputs": [
    {
     "name": "stdout",
     "output_type": "stream",
     "text": [
      "16.78391959798995\n"
     ]
    }
   ],
   "source": [
    "lam_eff = lam*(1-p_n[-1])\n",
    "print(lam_eff)"
   ]
  },
  {
   "cell_type": "code",
   "execution_count": 26,
   "metadata": {},
   "outputs": [
    {
     "name": "stdout",
     "output_type": "stream",
     "text": [
      "0.05748502994011976\n"
     ]
    }
   ],
   "source": [
    "W_q = L_q / lam_eff\n",
    "print(W_q)"
   ]
  },
  {
   "cell_type": "markdown",
   "metadata": {},
   "source": [
    "# 8"
   ]
  },
  {
   "cell_type": "markdown",
   "metadata": {},
   "source": [
    "## 8 (a)"
   ]
  },
  {
   "cell_type": "code",
   "execution_count": 27,
   "metadata": {},
   "outputs": [],
   "source": [
    "R = np.array([[0.1, 0.6, 0.2, 0], [0, 0, 0.1, 0.8], [0, 0.1, 0, 0.8], [0, 0, 0, 0]])"
   ]
  },
  {
   "cell_type": "code",
   "execution_count": 28,
   "metadata": {},
   "outputs": [],
   "source": [
    "gamma = np.array([30, 0, 0, 0])"
   ]
  },
  {
   "cell_type": "code",
   "execution_count": 29,
   "metadata": {},
   "outputs": [],
   "source": [
    "mu = np.array([120, 30, 10, 30])"
   ]
  },
  {
   "cell_type": "code",
   "execution_count": 30,
   "metadata": {},
   "outputs": [],
   "source": [
    "#np.linalg.inv(np.identity(4)-R)"
   ]
  },
  {
   "cell_type": "code",
   "execution_count": 31,
   "metadata": {},
   "outputs": [
    {
     "name": "stdout",
     "output_type": "stream",
     "text": [
      "[33.33333333 20.87542088  8.75420875 23.7037037 ]\n"
     ]
    }
   ],
   "source": [
    "lam = gamma.dot(np.linalg.inv(np.identity(4)-R))\n",
    "print(lam)"
   ]
  },
  {
   "cell_type": "code",
   "execution_count": 32,
   "metadata": {},
   "outputs": [
    {
     "name": "stdout",
     "output_type": "stream",
     "text": [
      "[0.27777778 0.69584736 0.87542088 0.79012346]\n"
     ]
    }
   ],
   "source": [
    "r = lam/mu\n",
    "print(r)"
   ]
  },
  {
   "cell_type": "code",
   "execution_count": 33,
   "metadata": {},
   "outputs": [
    {
     "name": "stdout",
     "output_type": "stream",
     "text": [
      "[0.27777778 2.28782288 7.02702703 3.76470588]\n",
      "13.357333565386527\n"
     ]
    }
   ],
   "source": [
    "L = lam/(mu-lam)\n",
    "L[0] = r[0]\n",
    "print(L)\n",
    "print(sum(L))"
   ]
  },
  {
   "cell_type": "code",
   "execution_count": 34,
   "metadata": {},
   "outputs": [
    {
     "name": "stdout",
     "output_type": "stream",
     "text": [
      "0.44524445217955094\n",
      "26.714667130773055\n"
     ]
    }
   ],
   "source": [
    "W = sum(L)/gamma[0]\n",
    "print(W)\n",
    "print(W*60)"
   ]
  },
  {
   "cell_type": "code",
   "execution_count": 35,
   "metadata": {},
   "outputs": [
    {
     "name": "stdout",
     "output_type": "stream",
     "text": [
      "[0.         1.59197552 6.15160615 2.97458243]\n"
     ]
    }
   ],
   "source": [
    "L_q = lam*lam/mu/(mu-lam)\n",
    "L_q[0] = 0\n",
    "print(L_q)"
   ]
  },
  {
   "cell_type": "code",
   "execution_count": 36,
   "metadata": {},
   "outputs": [
    {
     "name": "stdout",
     "output_type": "stream",
     "text": [
      "[0.         0.07626076 0.7027027  0.1254902 ]\n"
     ]
    }
   ],
   "source": [
    "W_q = L_q/lam\n",
    "print(W_q)"
   ]
  },
  {
   "cell_type": "markdown",
   "metadata": {},
   "source": [
    "# 9 (Problem 5.14)"
   ]
  },
  {
   "cell_type": "markdown",
   "metadata": {},
   "source": [
    "## 9 (a)"
   ]
  },
  {
   "cell_type": "code",
   "execution_count": 37,
   "metadata": {},
   "outputs": [],
   "source": [
    "R = np.array([[0.3, 0.5], [1, 0]])"
   ]
  },
  {
   "cell_type": "code",
   "execution_count": 38,
   "metadata": {},
   "outputs": [],
   "source": [
    "gamma = np.array([2, 0])"
   ]
  },
  {
   "cell_type": "code",
   "execution_count": 39,
   "metadata": {},
   "outputs": [],
   "source": [
    "mu = np.array([2, 3])\n",
    "c = [6, 2]"
   ]
  },
  {
   "cell_type": "code",
   "execution_count": 40,
   "metadata": {},
   "outputs": [
    {
     "name": "stdout",
     "output_type": "stream",
     "text": [
      "[10.  5.]\n"
     ]
    }
   ],
   "source": [
    "lam = gamma.dot(np.linalg.inv(np.identity(2)-R))\n",
    "print(lam)"
   ]
  },
  {
   "cell_type": "markdown",
   "metadata": {},
   "source": [
    "## 9 (b)"
   ]
  },
  {
   "cell_type": "code",
   "execution_count": 41,
   "metadata": {},
   "outputs": [
    {
     "name": "stdout",
     "output_type": "stream",
     "text": [
      "[5.         1.66666667]\n"
     ]
    }
   ],
   "source": [
    "r = lam/mu\n",
    "print(r)"
   ]
  },
  {
   "cell_type": "code",
   "execution_count": 42,
   "metadata": {},
   "outputs": [
    {
     "name": "stdout",
     "output_type": "stream",
     "text": [
      "[0.83333333 0.83333333]\n"
     ]
    }
   ],
   "source": [
    "rho = r/c\n",
    "print(rho)"
   ]
  },
  {
   "cell_type": "code",
   "execution_count": 43,
   "metadata": {},
   "outputs": [
    {
     "name": "stdout",
     "output_type": "stream",
     "text": [
      "[0.00451213 0.09090909]\n"
     ]
    }
   ],
   "source": [
    "p_0 = [0,0]\n",
    "for j in range(len(c)):\n",
    "    n = r[j]**c[j]\n",
    "    d = factorial(c[j])*(1-rho[j])\n",
    "    s = sum([r[j]**i/factorial(i) for i in range(c[j])])\n",
    "    p_0[j] = 1 / (n/d + s)\n",
    "p_0 = np.array(p_0)\n",
    "print(p_0)"
   ]
  },
  {
   "cell_type": "code",
   "execution_count": 44,
   "metadata": {},
   "outputs": [
    {
     "name": "stdout",
     "output_type": "stream",
     "text": [
      "[2.93758225 3.78787879]\n"
     ]
    }
   ],
   "source": [
    "L_q = r**c*rho/np.array([factorial(i) for i in c])/(1-rho)/(1-rho)*p_0\n",
    "print(L_q)"
   ]
  },
  {
   "cell_type": "code",
   "execution_count": 45,
   "metadata": {},
   "outputs": [
    {
     "name": "stdout",
     "output_type": "stream",
     "text": [
      "[7.93758225 5.45454545]\n",
      "13.392127706848528\n"
     ]
    }
   ],
   "source": [
    "L = L_q + r\n",
    "print(L)\n",
    "print(sum(L))"
   ]
  },
  {
   "cell_type": "code",
   "execution_count": 46,
   "metadata": {},
   "outputs": [
    {
     "name": "stdout",
     "output_type": "stream",
     "text": [
      "6.696063853424264\n",
      "401.76383120545586\n"
     ]
    }
   ],
   "source": [
    "W = sum(L)/gamma[0]\n",
    "print(W)\n",
    "print(W*60)"
   ]
  },
  {
   "cell_type": "code",
   "execution_count": 47,
   "metadata": {},
   "outputs": [
    {
     "name": "stdout",
     "output_type": "stream",
     "text": [
      "[0.29375823 0.75757576]\n"
     ]
    }
   ],
   "source": [
    "W_q = L_q/lam\n",
    "print(W_q)"
   ]
  },
  {
   "cell_type": "code",
   "execution_count": 48,
   "metadata": {},
   "outputs": [
    {
     "data": {
      "text/plain": [
       "2.0000000000000004"
      ]
     },
     "execution_count": 48,
     "metadata": {},
     "output_type": "execute_result"
    }
   ],
   "source": [
    "lam[0]*0.2"
   ]
  },
  {
   "cell_type": "code",
   "execution_count": 49,
   "metadata": {},
   "outputs": [
    {
     "name": "stdout",
     "output_type": "stream",
     "text": [
      "[0.79375823 1.09090909]\n"
     ]
    }
   ],
   "source": [
    "W_n = L/lam\n",
    "print(W_n)"
   ]
  },
  {
   "cell_type": "markdown",
   "metadata": {},
   "source": [
    "# 10"
   ]
  },
  {
   "cell_type": "markdown",
   "metadata": {},
   "source": [
    "## 10 (a)"
   ]
  },
  {
   "cell_type": "code",
   "execution_count": 50,
   "metadata": {},
   "outputs": [],
   "source": [
    "R = np.array([[0, 1, 0, 0], [0.2, 0, 0.7, 0], [0, 0, 0, 1], [0.1, 0, 0.1, 0]])"
   ]
  },
  {
   "cell_type": "code",
   "execution_count": 51,
   "metadata": {},
   "outputs": [],
   "source": [
    "gamma = np.array([10, 0, 0, 0])"
   ]
  },
  {
   "cell_type": "code",
   "execution_count": 52,
   "metadata": {},
   "outputs": [],
   "source": [
    "mu = np.array([15, 15, 12, 12])\n",
    "c = np.array([1, 1, 1, 1])"
   ]
  },
  {
   "cell_type": "code",
   "execution_count": 53,
   "metadata": {},
   "outputs": [
    {
     "name": "stdout",
     "output_type": "stream",
     "text": [
      "[13.84615385 13.84615385 10.76923077 10.76923077]\n"
     ]
    }
   ],
   "source": [
    "lam = gamma.dot(np.linalg.inv(np.identity(4)-R))\n",
    "print(lam)"
   ]
  },
  {
   "cell_type": "code",
   "execution_count": 54,
   "metadata": {},
   "outputs": [
    {
     "name": "stdout",
     "output_type": "stream",
     "text": [
      "$\\lambda_A=13.846$, $\\lambda_B=13.846$, $\\lambda_C=10.769$, $\\lambda_D=10.769$, \n"
     ]
    }
   ],
   "source": [
    "names = ['A','B','C','D']\n",
    "l = [f'$\\lambda_{names[i]}={round(lam[i],3)}$, ' for i in range(len(names))]\n",
    "o = ''\n",
    "for i in range(len(l)):\n",
    "    o += l[i]\n",
    "print(o)"
   ]
  },
  {
   "cell_type": "code",
   "execution_count": 55,
   "metadata": {},
   "outputs": [
    {
     "data": {
      "text/plain": [
       "6.461538461538461"
      ]
     },
     "execution_count": 55,
     "metadata": {},
     "output_type": "execute_result"
    }
   ],
   "source": [
    "0.6 * lam[-1]"
   ]
  },
  {
   "cell_type": "markdown",
   "metadata": {},
   "source": [
    "## 10 (b)"
   ]
  },
  {
   "cell_type": "code",
   "execution_count": 56,
   "metadata": {},
   "outputs": [
    {
     "name": "stdout",
     "output_type": "stream",
     "text": [
      "[0.92307692 0.92307692 0.8974359  0.8974359 ]\n"
     ]
    }
   ],
   "source": [
    "r = lam/mu\n",
    "print(r)"
   ]
  },
  {
   "cell_type": "code",
   "execution_count": 57,
   "metadata": {},
   "outputs": [
    {
     "name": "stdout",
     "output_type": "stream",
     "text": [
      "$r_A=13.846/15=0.923$, $r_B=13.846/15=0.923$, $r_C=10.769/12=0.897$, $r_D=10.769/12=0.897$, \n"
     ]
    }
   ],
   "source": [
    "names = ['A','B','C','D']\n",
    "l = [f'$r_{names[i]}={round(lam[i],3)}/{round(mu[i],3)}={round(r[i],3)}$, ' for i in range(len(names))]\n",
    "o = ''\n",
    "for i in range(len(l)):\n",
    "    o += l[i]\n",
    "print(o)"
   ]
  },
  {
   "cell_type": "code",
   "execution_count": 58,
   "metadata": {},
   "outputs": [
    {
     "name": "stdout",
     "output_type": "stream",
     "text": [
      "[0.92307692 0.92307692 0.8974359  0.8974359 ]\n"
     ]
    }
   ],
   "source": [
    "rho = r/c\n",
    "print(rho)"
   ]
  },
  {
   "cell_type": "code",
   "execution_count": 59,
   "metadata": {},
   "outputs": [
    {
     "name": "stdout",
     "output_type": "stream",
     "text": [
      "[12.   12.    8.75  8.75]\n",
      "41.50000000000001\n"
     ]
    }
   ],
   "source": [
    "L = rho / (1 - rho)\n",
    "print(L)\n",
    "print(sum(L))"
   ]
  },
  {
   "cell_type": "markdown",
   "metadata": {},
   "source": [
    "## 10 (c)"
   ]
  },
  {
   "cell_type": "code",
   "execution_count": 60,
   "metadata": {},
   "outputs": [
    {
     "name": "stdout",
     "output_type": "stream",
     "text": [
      "4.15\n"
     ]
    }
   ],
   "source": [
    "W = sum(L)/gamma[0]\n",
    "print(W)"
   ]
  },
  {
   "cell_type": "code",
   "execution_count": 61,
   "metadata": {},
   "outputs": [
    {
     "data": {
      "text/plain": [
       "10.0"
      ]
     },
     "execution_count": 61,
     "metadata": {},
     "output_type": "execute_result"
    }
   ],
   "source": [
    "sum([0, 0.1, 0, 0.2 + 0.6]*lam)"
   ]
  },
  {
   "cell_type": "code",
   "execution_count": null,
   "metadata": {},
   "outputs": [],
   "source": []
  }
 ],
 "metadata": {
  "kernelspec": {
   "display_name": "Python 3",
   "language": "python",
   "name": "python3"
  },
  "language_info": {
   "codemirror_mode": {
    "name": "ipython",
    "version": 3
   },
   "file_extension": ".py",
   "mimetype": "text/x-python",
   "name": "python",
   "nbconvert_exporter": "python",
   "pygments_lexer": "ipython3",
   "version": "3.7.4"
  }
 },
 "nbformat": 4,
 "nbformat_minor": 4
}
