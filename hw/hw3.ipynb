{
 "cells": [
  {
   "cell_type": "code",
   "execution_count": 1,
   "metadata": {},
   "outputs": [],
   "source": [
    "import numpy as np\n",
    "import matplotlib.pyplot as plt\n",
    "import pandas as pd\n",
    "from scipy.stats import norm\n",
    "from scipy.optimize import newton\n",
    "from math import factorial\n",
    "from math import sqrt"
   ]
  },
  {
   "cell_type": "code",
   "execution_count": 2,
   "metadata": {},
   "outputs": [
    {
     "name": "stdout",
     "output_type": "stream",
     "text": [
      "Pretty printing has been turned OFF\n"
     ]
    }
   ],
   "source": [
    "%pprint"
   ]
  },
  {
   "cell_type": "markdown",
   "metadata": {},
   "source": [
    "# Problem 1 (1.17)"
   ]
  },
  {
   "cell_type": "markdown",
   "metadata": {},
   "source": [
    "## 1 (a)"
   ]
  },
  {
   "cell_type": "code",
   "execution_count": 3,
   "metadata": {},
   "outputs": [
    {
     "name": "stdout",
     "output_type": "stream",
     "text": [
      "[1, 9, 6, 4, 7, 9, 5, 8, 4, 10, 6, 12, 6, 8, 9, 5, 7, 8, 8, 7]\n"
     ]
    }
   ],
   "source": [
    "T = [1,9,6,4,7,9,5,8,4,10,6,12,6,8,9,5,7,8,8,7]\n",
    "print(T)"
   ]
  },
  {
   "cell_type": "code",
   "execution_count": 4,
   "metadata": {},
   "outputs": [
    {
     "name": "stdout",
     "output_type": "stream",
     "text": [
      "[3, 7, 9, 9, 10, 4, 8, 5, 5, 3, 6, 3, 5, 4, 9, 9, 8, 6, 8, 3]\n"
     ]
    }
   ],
   "source": [
    "S = [3,7,9,9,10,4,8,5,5,3,6,3,5,4,9,9,8,6,8,3]\n",
    "print(S)"
   ]
  },
  {
   "cell_type": "code",
   "execution_count": 5,
   "metadata": {},
   "outputs": [
    {
     "name": "stdout",
     "output_type": "stream",
     "text": [
      "[0, 1, 10, 16, 20, 27, 36, 41, 49, 53, 63, 69, 81, 87, 95, 104, 109, 116, 124, 132]\n"
     ]
    }
   ],
   "source": [
    "A = [0] + list(np.cumsum(T)[:-1])\n",
    "print(A)"
   ]
  },
  {
   "cell_type": "code",
   "execution_count": 6,
   "metadata": {},
   "outputs": [
    {
     "name": "stdout",
     "output_type": "stream",
     "text": [
      "[0, 0, 0, 0, 0, 0, 0, 0, 0, 0, 0, 0, 0, 0, 0, 0, 0, 0, 0, 0]\n"
     ]
    }
   ],
   "source": [
    "U = [0 for i in range(len(A))]\n",
    "print(U)"
   ]
  },
  {
   "cell_type": "code",
   "execution_count": 7,
   "metadata": {},
   "outputs": [
    {
     "name": "stdout",
     "output_type": "stream",
     "text": [
      "[0, 0, 0, 0, 0, 0, 0, 0, 0, 0, 0, 0, 0, 0, 0, 0, 0, 0, 0, 0]\n"
     ]
    }
   ],
   "source": [
    "D = U.copy()\n",
    "print(D)"
   ]
  },
  {
   "cell_type": "code",
   "execution_count": 8,
   "metadata": {},
   "outputs": [
    {
     "name": "stdout",
     "output_type": "stream",
     "text": [
      "[0, 3, 10, 19, 28, 38, 42, 50, 55, 60, 63, 69, 81, 87, 95, 104, 113, 121, 127, 135]\n"
     ]
    }
   ],
   "source": [
    "for i in range(len(A)):\n",
    "    D[i] = U[i] + S[i]\n",
    "    if i < len(A)-1:\n",
    "        U[i+1] = max(D[i], A[i+1])\n",
    "print(U)"
   ]
  },
  {
   "cell_type": "code",
   "execution_count": 9,
   "metadata": {},
   "outputs": [
    {
     "name": "stdout",
     "output_type": "stream",
     "text": [
      "[3, 10, 19, 28, 38, 42, 50, 55, 60, 63, 69, 72, 86, 91, 104, 113, 121, 127, 135, 138]\n"
     ]
    }
   ],
   "source": [
    "print(D)"
   ]
  },
  {
   "cell_type": "code",
   "execution_count": 10,
   "metadata": {},
   "outputs": [
    {
     "name": "stdout",
     "output_type": "stream",
     "text": [
      "[0, 2, 0, 3, 8, 11, 6, 9, 6, 7, 0, 0, 0, 0, 0, 0, 4, 5, 3, 3]\n"
     ]
    }
   ],
   "source": [
    "W_q = [u-a for u,a in zip(U,A)]\n",
    "print(W_q)"
   ]
  },
  {
   "cell_type": "code",
   "execution_count": 11,
   "metadata": {},
   "outputs": [
    {
     "name": "stdout",
     "output_type": "stream",
     "text": [
      "[3, 9, 9, 12, 18, 15, 14, 14, 11, 10, 6, 3, 5, 4, 9, 9, 12, 11, 11, 6]\n"
     ]
    }
   ],
   "source": [
    "W = [w+s for w,s in zip(W_q,S)]\n",
    "print(W)"
   ]
  },
  {
   "cell_type": "code",
   "execution_count": 12,
   "metadata": {},
   "outputs": [
    {
     "name": "stdout",
     "output_type": "stream",
     "text": [
      "9.55\n"
     ]
    }
   ],
   "source": [
    "W_ave = sum(W)/len(W)\n",
    "print(W_ave)"
   ]
  },
  {
   "cell_type": "code",
   "execution_count": 13,
   "metadata": {},
   "outputs": [
    {
     "name": "stdout",
     "output_type": "stream",
     "text": [
      "3.35\n"
     ]
    }
   ],
   "source": [
    "W_q_ave = sum(W_q)/len(W_q)\n",
    "print(W_q_ave)"
   ]
  },
  {
   "cell_type": "code",
   "execution_count": 14,
   "metadata": {},
   "outputs": [
    {
     "name": "stdout",
     "output_type": "stream",
     "text": [
      "6.2\n"
     ]
    }
   ],
   "source": [
    "S_ave = sum(S)/len(S)\n",
    "print(S_ave)"
   ]
  },
  {
   "cell_type": "markdown",
   "metadata": {},
   "source": [
    "## 1 (b)"
   ]
  },
  {
   "cell_type": "code",
   "execution_count": 15,
   "metadata": {},
   "outputs": [
    {
     "name": "stdout",
     "output_type": "stream",
     "text": [
      "20 138 0.14492753623188406\n"
     ]
    }
   ],
   "source": [
    "rate = len(D)/D[-1]\n",
    "print(len(D), D[-1], rate)"
   ]
  },
  {
   "cell_type": "code",
   "execution_count": 16,
   "metadata": {},
   "outputs": [
    {
     "name": "stdout",
     "output_type": "stream",
     "text": [
      "0.48550724637681164\n"
     ]
    }
   ],
   "source": [
    "L_q = rate*W_q_ave\n",
    "print(L_q)"
   ]
  },
  {
   "cell_type": "code",
   "execution_count": 17,
   "metadata": {},
   "outputs": [
    {
     "name": "stdout",
     "output_type": "stream",
     "text": [
      "1.384057971014493\n"
     ]
    }
   ],
   "source": [
    "L = rate*W_ave\n",
    "print(L)"
   ]
  },
  {
   "cell_type": "code",
   "execution_count": 18,
   "metadata": {},
   "outputs": [
    {
     "name": "stdout",
     "output_type": "stream",
     "text": [
      "5.583333333333333\n"
     ]
    }
   ],
   "source": [
    "W_q_ave_wait = sum(W_q)/sum([w>0 for w in W_q])\n",
    "print(W_q_ave_wait)"
   ]
  },
  {
   "cell_type": "code",
   "execution_count": 19,
   "metadata": {},
   "outputs": [
    {
     "name": "stdout",
     "output_type": "stream",
     "text": [
      "124 138 0.8985507246376812 0.10144927536231885\n"
     ]
    }
   ],
   "source": [
    "print(sum(S), D[-1], sum(S)/D[-1], 1-sum(S)/D[-1])"
   ]
  },
  {
   "cell_type": "code",
   "execution_count": 20,
   "metadata": {},
   "outputs": [
    {
     "name": "stdout",
     "output_type": "stream",
     "text": [
      "[0, 1, 10, 16, 20, 27, 36, 41, 49, 53, 63, 69, 81, 87, 95, 104, 109, 116, 124, 132]\n",
      "[0, 3, 10, 19, 28, 38, 42, 50, 55, 60, 63, 69, 81, 87, 95, 104, 113, 121, 127, 135]\n"
     ]
    }
   ],
   "source": [
    "print(A)\n",
    "print(U)"
   ]
  },
  {
   "cell_type": "code",
   "execution_count": 21,
   "metadata": {},
   "outputs": [
    {
     "name": "stdout",
     "output_type": "stream",
     "text": [
      "[0, 1, 3, 10, 16, 19, 20, 27, 28, 36, 38, 41, 42, 49, 50, 53, 55, 60, 63, 69, 81, 87, 95, 104, 109, 113, 116, 121, 124, 127, 132, 135]\n"
     ]
    }
   ],
   "source": [
    "Ti = list(set(A+U))\n",
    "Ti.sort()\n",
    "print(Ti)"
   ]
  },
  {
   "cell_type": "code",
   "execution_count": 22,
   "metadata": {},
   "outputs": [
    {
     "name": "stdout",
     "output_type": "stream",
     "text": [
      "[0, 1, 0, 0, 1, 0, 1, 2, 1, 2, 1, 2, 1, 2, 1, 2, 1, 0, 0, 0, 0, 0, 0, 0, 1, 0, 1, 0, 1, 0, 1, 0]\n"
     ]
    }
   ],
   "source": [
    "N_q=[sum([a <= t for a in A])-sum([u <= t for u in U]) for t in Ti]\n",
    "print(N_q)"
   ]
  },
  {
   "cell_type": "code",
   "execution_count": 23,
   "metadata": {},
   "outputs": [
    {
     "name": "stdout",
     "output_type": "stream",
     "text": [
      "[1, 2, 1, 1, 2, 1, 2, 3, 2, 3, 2, 3, 2, 3, 2, 3, 2, 1, 1, 1, 1, 1, 1, 1, 2, 1, 2, 1, 2, 1, 2, 1]\n"
     ]
    }
   ],
   "source": [
    "N=[sum([a <= t for a in A])-sum([d <= t for d in D]) for t in Ti]\n",
    "print(N)"
   ]
  },
  {
   "cell_type": "code",
   "execution_count": 24,
   "metadata": {},
   "outputs": [
    {
     "data": {
      "text/plain": [
       "2"
      ]
     },
     "execution_count": 24,
     "metadata": {},
     "output_type": "execute_result"
    }
   ],
   "source": [
    "max(N_q)"
   ]
  },
  {
   "cell_type": "code",
   "execution_count": 25,
   "metadata": {},
   "outputs": [
    {
     "data": {
      "image/png": "[encoded data removed]",
      "text/plain": [
       "<Figure size 864x216 with 1 Axes>"
      ]
     },
     "metadata": {
      "needs_background": "light"
     },
     "output_type": "display_data"
    }
   ],
   "source": [
    "plt.figure(figsize=[12,3])\n",
    "plt.plot(Ti,N_q,drawstyle='steps-post')\n",
    "plt.yticks(range(max(N_q)+1))\n",
    "plt.show()"
   ]
  },
  {
   "cell_type": "code",
   "execution_count": 26,
   "metadata": {},
   "outputs": [
    {
     "data": {
      "text/plain": [
       "0.4855072463768116"
      ]
     },
     "execution_count": 26,
     "metadata": {},
     "output_type": "execute_result"
    }
   ],
   "source": [
    "sum([n*t for n,t in zip(N_q,np.diff(Ti))])/D[-1]"
   ]
  },
  {
   "cell_type": "code",
   "execution_count": 27,
   "metadata": {},
   "outputs": [
    {
     "data": {
      "text/plain": [
       "0.48550724637681164"
      ]
     },
     "execution_count": 27,
     "metadata": {},
     "output_type": "execute_result"
    }
   ],
   "source": [
    "L_q"
   ]
  },
  {
   "cell_type": "code",
   "execution_count": 28,
   "metadata": {},
   "outputs": [
    {
     "data": {
      "image/png": "[encoded data removed]",
      "text/plain": [
       "<Figure size 432x288 with 1 Axes>"
      ]
     },
     "metadata": {
      "needs_background": "light"
     },
     "output_type": "display_data"
    }
   ],
   "source": [
    "plt.plot(A,[i for i in range(1,len(A)+1)],drawstyle='steps-post')\n",
    "plt.plot(U,range(len(U)),drawstyle='steps-post')\n",
    "#plt.plot(D,range(len(D)),drawstyle='steps-post')\n",
    "#plt.plot(Ti,N,drawstyle='steps-post')\n",
    "#plt.plot(Ti,N_q,drawstyle='steps-post')\n",
    "plt.yticks(list(set([i*(i%5==0) for i in range(len(A)+1)])))\n",
    "plt.show()"
   ]
  },
  {
   "cell_type": "code",
   "execution_count": 29,
   "metadata": {},
   "outputs": [
    {
     "name": "stdout",
     "output_type": "stream",
     "text": [
      "124 67 191\n"
     ]
    }
   ],
   "source": [
    "print(sum(S), sum(W_q), sum(W))"
   ]
  },
  {
   "cell_type": "code",
   "execution_count": 30,
   "metadata": {},
   "outputs": [
    {
     "name": "stdout",
     "output_type": "stream",
     "text": [
      "6.2 3.35 9.55\n"
     ]
    }
   ],
   "source": [
    "print(sum(S)/20, sum(W_q)/20, sum(W)/20)"
   ]
  },
  {
   "cell_type": "code",
   "execution_count": 31,
   "metadata": {},
   "outputs": [
    {
     "name": "stdout",
     "output_type": "stream",
     "text": [
      "\\begin{tabular}{rrrrrrrr}\n",
      "\\toprule\n",
      " Customer &   T &   S &    A &    U &    D &  W\\_q &   W \\\\\n",
      "\\midrule\n",
      "        1 &   1 &   3 &    0 &    0 &    3 &    0 &   3 \\\\\n",
      "        2 &   9 &   7 &    1 &    3 &   10 &    2 &   9 \\\\\n",
      "        3 &   6 &   9 &   10 &   10 &   19 &    0 &   9 \\\\\n",
      "        4 &   4 &   9 &   16 &   19 &   28 &    3 &  12 \\\\\n",
      "        5 &   7 &  10 &   20 &   28 &   38 &    8 &  18 \\\\\n",
      "        6 &   9 &   4 &   27 &   38 &   42 &   11 &  15 \\\\\n",
      "        7 &   5 &   8 &   36 &   42 &   50 &    6 &  14 \\\\\n",
      "        8 &   8 &   5 &   41 &   50 &   55 &    9 &  14 \\\\\n",
      "        9 &   4 &   5 &   49 &   55 &   60 &    6 &  11 \\\\\n",
      "       10 &  10 &   3 &   53 &   60 &   63 &    7 &  10 \\\\\n",
      "       11 &   6 &   6 &   63 &   63 &   69 &    0 &   6 \\\\\n",
      "       12 &  12 &   3 &   69 &   69 &   72 &    0 &   3 \\\\\n",
      "       13 &   6 &   5 &   81 &   81 &   86 &    0 &   5 \\\\\n",
      "       14 &   8 &   4 &   87 &   87 &   91 &    0 &   4 \\\\\n",
      "       15 &   9 &   9 &   95 &   95 &  104 &    0 &   9 \\\\\n",
      "       16 &   5 &   9 &  104 &  104 &  113 &    0 &   9 \\\\\n",
      "       17 &   7 &   8 &  109 &  113 &  121 &    4 &  12 \\\\\n",
      "       18 &   8 &   6 &  116 &  121 &  127 &    5 &  11 \\\\\n",
      "       19 &   8 &   8 &  124 &  127 &  135 &    3 &  11 \\\\\n",
      "       20 &   7 &   3 &  132 &  135 &  138 &    3 &   6 \\\\\n",
      "\\bottomrule\n",
      "\\end{tabular}\n",
      "\n"
     ]
    }
   ],
   "source": [
    "df = pd.DataFrame(dict(Customer=[i for i in range(1,21)],T=T,S=S,A=A,U=U,D=D,W_q=W_q,W=W))\n",
    "print(df.to_latex(index=False))"
   ]
  },
  {
   "cell_type": "markdown",
   "metadata": {},
   "source": [
    "# Problem 2 (1.18)"
   ]
  },
  {
   "cell_type": "code",
   "execution_count": 32,
   "metadata": {},
   "outputs": [
    {
     "name": "stdout",
     "output_type": "stream",
     "text": [
      "[5, 10, 15, 20, 25, 30, 35, 40, 45, 50, 55, 60]\n"
     ]
    }
   ],
   "source": [
    "A = [5*i for i in range(1,60//5+1)]\n",
    "print(A)"
   ]
  },
  {
   "cell_type": "code",
   "execution_count": 33,
   "metadata": {},
   "outputs": [
    {
     "name": "stdout",
     "output_type": "stream",
     "text": [
      "[7, 17, 23, 29, 35, 38, 39, 44, 46, 60]\n"
     ]
    }
   ],
   "source": [
    "D = [7, 17, 23, 29, 35, 38, 39, 44, 46, 60]\n",
    "print(D)"
   ]
  },
  {
   "cell_type": "code",
   "execution_count": 34,
   "metadata": {},
   "outputs": [
    {
     "name": "stdout",
     "output_type": "stream",
     "text": [
      "[0, 5, 7, 10, 15, 17, 20, 23, 25, 29, 30, 35, 38, 39, 40, 44, 45, 46, 50, 55, 60]\n"
     ]
    }
   ],
   "source": [
    "Ti = list(set(A+D))\n",
    "Ti.sort()\n",
    "Ti = [0] + Ti\n",
    "print(Ti)"
   ]
  },
  {
   "cell_type": "code",
   "execution_count": 35,
   "metadata": {},
   "outputs": [
    {
     "name": "stdout",
     "output_type": "stream",
     "text": [
      "[0, 1, 0, 1, 2, 1, 2, 1, 2, 1, 2, 2, 1, 0, 1, 0, 1, 0, 1, 2, 2]\n"
     ]
    }
   ],
   "source": [
    "N=[sum([a <= t for a in A])-sum([d <= t for d in D]) for t in Ti]\n",
    "print(N)"
   ]
  },
  {
   "cell_type": "code",
   "execution_count": 36,
   "metadata": {},
   "outputs": [
    {
     "name": "stdout",
     "output_type": "stream",
     "text": [
      "[5, 2, 3, 5, 2, 3, 3, 2, 4, 1, 5, 3, 1, 1, 4, 1, 1, 4, 5, 5]\n",
      "68\n",
      "60\n",
      "1.1333333333333333\n"
     ]
    }
   ],
   "source": [
    "L = sum([n*t for n,t in zip(N[:-1],np.diff(Ti))])/D[-1]\n",
    "print(list(np.diff(Ti)))\n",
    "print(sum([n*t for n,t in zip(N[:-1],np.diff(Ti))]))\n",
    "print(D[-1])\n",
    "print(L)"
   ]
  },
  {
   "cell_type": "code",
   "execution_count": 37,
   "metadata": {},
   "outputs": [
    {
     "name": "stdout",
     "output_type": "stream",
     "text": [
      "[5, 0, 3, 0, 0, 0, 0, 0, 0, 0, 0, 0, 0, 1, 0, 1, 0, 4, 0, 0]\n",
      "[5, 2, 3, 5, 2, 3, 3, 2, 4, 1, 5, 3, 1, 1, 4, 1, 1, 4, 5, 5]\n",
      "14\n",
      "0.23333333333333334\n"
     ]
    }
   ],
   "source": [
    "W_i = sum([n*t for n,t in zip([n==0 for n in N],np.diff(Ti))])/D[-1]\n",
    "print([n*t for n,t in zip([n==0 for n in N],np.diff(Ti))])\n",
    "print(list(np.diff(Ti)))\n",
    "print(sum([n*t for n,t in zip([n==0 for n in N],np.diff(Ti))]))\n",
    "print(W_i)"
   ]
  },
  {
   "cell_type": "code",
   "execution_count": 38,
   "metadata": {},
   "outputs": [
    {
     "data": {
      "image/png": "[encoded data removed]",
      "text/plain": [
       "<Figure size 432x288 with 1 Axes>"
      ]
     },
     "metadata": {
      "needs_background": "light"
     },
     "output_type": "display_data"
    }
   ],
   "source": [
    "plt.plot(Ti,N,drawstyle='steps-post')\n",
    "plt.yticks(range(max(N)+1))\n",
    "plt.xticks(list(set([i*(i%5==0) for i in range(max(Ti)+1)])))\n",
    "plt.show()"
   ]
  },
  {
   "cell_type": "code",
   "execution_count": 39,
   "metadata": {},
   "outputs": [
    {
     "data": {
      "image/png": "[encoded data removed]",
      "text/plain": [
       "<Figure size 432x288 with 1 Axes>"
      ]
     },
     "metadata": {
      "needs_background": "light"
     },
     "output_type": "display_data"
    }
   ],
   "source": [
    "plt.plot([0]+A,range(len(A)+1),drawstyle='steps-post')\n",
    "plt.plot([0]+D,range(len(D)+1),drawstyle='steps-post')\n",
    "#plt.plot([0]+D,range(len(D)+1),drawstyle='steps-post')\n",
    "#plt.plot(Ti,N,drawstyle='steps-post')\n",
    "#plt.plot(Ti,N_q,drawstyle='steps-post')\n",
    "plt.yticks(list(set([i*(i%5==0) for i in range(len(A)+1)])))\n",
    "plt.show()"
   ]
  },
  {
   "cell_type": "markdown",
   "metadata": {},
   "source": [
    "# Problem 3 (1.19)"
   ]
  },
  {
   "cell_type": "code",
   "execution_count": 40,
   "metadata": {},
   "outputs": [
    {
     "name": "stdout",
     "output_type": "stream",
     "text": [
      "[1, 2, 3, 4, 5, 6, 7, 8, 9, 10, 11, 12, 13, 14, 15]\n"
     ]
    }
   ],
   "source": [
    "A = [1, 2, 3, 4, 5, 6, 7, 8, 9, 10, 11, 12, 13, 14, 15]\n",
    "print(A)"
   ]
  },
  {
   "cell_type": "code",
   "execution_count": 41,
   "metadata": {},
   "outputs": [
    {
     "name": "stdout",
     "output_type": "stream",
     "text": [
      "[2.22, 1.76, 2.13, 0.14, 0.76, 0.7, 0.47, 0.22, 0.18, 2.41, 0.41, 0.46, 1.37, 0.27, 0.27]\n"
     ]
    }
   ],
   "source": [
    "S = [2.22,1.76,2.13,0.14,0.76,0.70,0.47,0.22,0.18,2.41,0.41,0.46,1.37,0.27,0.27]\n",
    "print(S)"
   ]
  },
  {
   "cell_type": "code",
   "execution_count": 42,
   "metadata": {},
   "outputs": [
    {
     "name": "stdout",
     "output_type": "stream",
     "text": [
      "[1, 3.22, 4.98, 7.11, 7.25, 8.01, 8.709999999999999, 9.18, 9.4, 10, 12.41, 12.82, 13.280000000000001, 14.650000000000002, 15]\n",
      "[3.22, 4.98, 7.11, 7.25, 8.01, 8.709999999999999, 9.18, 9.4, 9.58, 12.41, 12.82, 13.280000000000001, 14.650000000000002, 14.920000000000002, 15.27]\n"
     ]
    }
   ],
   "source": [
    "D = [0 for i in range(len(A))]\n",
    "U = D.copy()\n",
    "U[0] = A[0]\n",
    "for i in range(len(A)):\n",
    "    D[i] = U[i] + S[i]\n",
    "    if i < len(A)-1:\n",
    "        U[i+1] = max(D[i], A[i+1])\n",
    "print(U)\n",
    "print(D)"
   ]
  },
  {
   "cell_type": "code",
   "execution_count": 43,
   "metadata": {},
   "outputs": [
    {
     "name": "stdout",
     "output_type": "stream",
     "text": [
      "[1, 2, 3, 3.22, 4, 4.98, 5, 6, 7, 7.11, 7.25, 8, 8.01, 8.709999999999999, 9, 9.18, 9.4, 10, 11, 12, 12.41, 12.82, 13, 13.280000000000001, 14, 14.650000000000002, 15]\n"
     ]
    }
   ],
   "source": [
    "Ti = list(set(A+U))\n",
    "Ti.sort()\n",
    "print(Ti)"
   ]
  },
  {
   "cell_type": "code",
   "execution_count": 44,
   "metadata": {},
   "outputs": [
    {
     "name": "stdout",
     "output_type": "stream",
     "text": [
      "[0, 1, 2, 1, 2, 1, 2, 3, 4, 3, 2, 3, 2, 1, 2, 1, 0, 0, 1, 2, 1, 0, 1, 0, 1, 0, 0]\n"
     ]
    }
   ],
   "source": [
    "N_q=[sum([a <= t for a in A])-sum([u <= t for u in U]) for t in Ti]\n",
    "print(N_q)"
   ]
  },
  {
   "cell_type": "code",
   "execution_count": 45,
   "metadata": {},
   "outputs": [
    {
     "name": "stdout",
     "output_type": "stream",
     "text": [
      "[1.0, 1.0, 0.22, 0.78, 0.98, 0.02, 1.0, 1.0, 0.11, 0.14, 0.75, 0.01, 0.7, 0.29, 0.18, 0.22, 0.6, 1.0, 1.0, 0.41, 0.41, 0.18, 0.28, 0.72, 0.65, 0.35]\n",
      "17.020000000000007\n",
      "1.1146037982973154\n"
     ]
    }
   ],
   "source": [
    "L_q = sum([n*t for n,t in zip(N_q,np.diff(Ti))])/D[-1]\n",
    "print([round(t,4) for t in np.diff(Ti)])\n",
    "print(sum([n*t for n,t in zip(N_q,np.diff(Ti))]))\n",
    "print(L_q)"
   ]
  },
  {
   "cell_type": "code",
   "execution_count": 46,
   "metadata": {},
   "outputs": [
    {
     "name": "stdout",
     "output_type": "stream",
     "text": [
      "[0, 1, 0, 1, 0, 1, 2, 3, 0, 0, 2, 0, 0, 1, 0, 0, 0, 0, 1, 0, 0, 0, 0, 0, 0, 0]\n"
     ]
    }
   ],
   "source": [
    "N_q_A = [N_q[i+1]-1 if N_q[i+1]>N_q[i] else 0 for i in range(len(N_q[:-1]))]\n",
    "print(N_q_A)"
   ]
  },
  {
   "cell_type": "code",
   "execution_count": 47,
   "metadata": {},
   "outputs": [
    {
     "name": "stdout",
     "output_type": "stream",
     "text": [
      "12\n",
      "8\n",
      "1.5\n"
     ]
    }
   ],
   "source": [
    "L_q_A = sum(N_q_A)/sum([n>0 for n in N_q_A])\n",
    "print(sum(N_q_A))\n",
    "print(sum([n>0 for n in N_q_A]))\n",
    "print(L_q_A)"
   ]
  },
  {
   "cell_type": "code",
   "execution_count": 48,
   "metadata": {},
   "outputs": [
    {
     "data": {
      "image/png": "[encoded data removed]",
      "text/plain": [
       "<Figure size 432x288 with 1 Axes>"
      ]
     },
     "metadata": {
      "needs_background": "light"
     },
     "output_type": "display_data"
    }
   ],
   "source": [
    "plt.plot([0]+Ti,[0]+N_q,drawstyle='steps-post')\n",
    "plt.yticks(range(max(N_q)+1))\n",
    "plt.xticks(range(16))\n",
    "plt.show()"
   ]
  },
  {
   "cell_type": "code",
   "execution_count": 49,
   "metadata": {},
   "outputs": [
    {
     "data": {
      "image/png": "[encoded data removed]",
      "text/plain": [
       "<Figure size 432x288 with 1 Axes>"
      ]
     },
     "metadata": {
      "needs_background": "light"
     },
     "output_type": "display_data"
    }
   ],
   "source": [
    "plt.plot([0]+A,range(len(A)+1),drawstyle='steps-post')\n",
    "plt.plot([0]+U,range(len(U)+1),drawstyle='steps-post')\n",
    "#plt.plot([0]+D,range(len(D)+1),drawstyle='steps-post')\n",
    "#plt.plot(Ti,N,drawstyle='steps-post')\n",
    "#plt.plot(Ti,N_q,drawstyle='steps-post')\n",
    "plt.yticks(list(set([i*(i%5==0) for i in range(len(A)+1)])))\n",
    "plt.xticks(range(16))\n",
    "plt.show()"
   ]
  },
  {
   "cell_type": "code",
   "execution_count": 50,
   "metadata": {},
   "outputs": [
    {
     "name": "stdout",
     "output_type": "stream",
     "text": [
      "\\begin{tabular}{rrrr}\n",
      "\\toprule\n",
      "  A &     S &      U &      D \\\\\n",
      "\\midrule\n",
      "  1 &  2.22 &   1.00 &   3.22 \\\\\n",
      "  2 &  1.76 &   3.22 &   4.98 \\\\\n",
      "  3 &  2.13 &   4.98 &   7.11 \\\\\n",
      "  4 &  0.14 &   7.11 &   7.25 \\\\\n",
      "  5 &  0.76 &   7.25 &   8.01 \\\\\n",
      "  6 &  0.70 &   8.01 &   8.71 \\\\\n",
      "  7 &  0.47 &   8.71 &   9.18 \\\\\n",
      "  8 &  0.22 &   9.18 &   9.40 \\\\\n",
      "  9 &  0.18 &   9.40 &   9.58 \\\\\n",
      " 10 &  2.41 &  10.00 &  12.41 \\\\\n",
      " 11 &  0.41 &  12.41 &  12.82 \\\\\n",
      " 12 &  0.46 &  12.82 &  13.28 \\\\\n",
      " 13 &  1.37 &  13.28 &  14.65 \\\\\n",
      " 14 &  0.27 &  14.65 &  14.92 \\\\\n",
      " 15 &  0.27 &  15.00 &  15.27 \\\\\n",
      "\\bottomrule\n",
      "\\end{tabular}\n",
      "\n"
     ]
    }
   ],
   "source": [
    "df = pd.DataFrame(dict(A=A,S=S,U=U,D=D))\n",
    "print(df.to_latex(index=False))"
   ]
  },
  {
   "cell_type": "markdown",
   "metadata": {},
   "source": [
    "# Problem 4"
   ]
  },
  {
   "cell_type": "markdown",
   "metadata": {},
   "source": [
    "## 4 (a)"
   ]
  },
  {
   "cell_type": "code",
   "execution_count": 51,
   "metadata": {},
   "outputs": [],
   "source": [
    "A=[0,6,9,10,15,17,19,23,29,35]\n",
    "S=[6,4,6,1,2,1,3,5,8,6]"
   ]
  },
  {
   "cell_type": "code",
   "execution_count": 52,
   "metadata": {},
   "outputs": [
    {
     "name": "stdout",
     "output_type": "stream",
     "text": [
      "[0, 6, 10, 16, 17, 19, 20, 23, 29, 37]\n",
      "[6, 10, 16, 17, 19, 20, 23, 28, 37, 43]\n"
     ]
    }
   ],
   "source": [
    "D = [0 for i in range(len(A))]\n",
    "U = D.copy()\n",
    "U[0] = A[0]\n",
    "for i in range(len(A)):\n",
    "    D[i] = U[i] + S[i]\n",
    "    if i < len(A)-1:\n",
    "        U[i+1] = max(D[i], A[i+1])\n",
    "print(U)\n",
    "print(D)"
   ]
  },
  {
   "cell_type": "code",
   "execution_count": 53,
   "metadata": {},
   "outputs": [
    {
     "name": "stdout",
     "output_type": "stream",
     "text": [
      "43\n"
     ]
    }
   ],
   "source": [
    "D_4a = D[-1]\n",
    "print(D_4a)"
   ]
  },
  {
   "cell_type": "code",
   "execution_count": 54,
   "metadata": {},
   "outputs": [
    {
     "name": "stdout",
     "output_type": "stream",
     "text": [
      "[0, 6, 9, 10, 15, 16, 17, 19, 20, 23, 29, 35, 37]\n"
     ]
    }
   ],
   "source": [
    "Ti = list(set(A+U))\n",
    "Ti.sort()\n",
    "print(Ti)"
   ]
  },
  {
   "cell_type": "code",
   "execution_count": 55,
   "metadata": {},
   "outputs": [
    {
     "name": "stdout",
     "output_type": "stream",
     "text": [
      "[0, 0, 1, 1, 2, 1, 1, 1, 0, 0, 0, 1, 0]\n"
     ]
    }
   ],
   "source": [
    "N_q=[sum([a <= t for a in A])-sum([u <= t for u in U]) for t in Ti]\n",
    "print(N_q)"
   ]
  },
  {
   "cell_type": "code",
   "execution_count": 56,
   "metadata": {},
   "outputs": [
    {
     "name": "stdout",
     "output_type": "stream",
     "text": [
      "[0, 0, 1, 6, 2, 2, 1, 0, 0, 2]\n",
      "1.4\n"
     ]
    }
   ],
   "source": [
    "W_q = [u-a for u,a in zip(U,A)]\n",
    "W_q_ave = sum(W_q)/len(W_q)\n",
    "print(W_q)\n",
    "print(W_q_ave)"
   ]
  },
  {
   "cell_type": "code",
   "execution_count": 57,
   "metadata": {},
   "outputs": [
    {
     "name": "stdout",
     "output_type": "stream",
     "text": [
      "0.32558139534883723\n"
     ]
    }
   ],
   "source": [
    "L_q = sum([n*t for n,t in zip(N_q,np.diff(Ti))])/D_4a\n",
    "print(L_q)"
   ]
  },
  {
   "cell_type": "code",
   "execution_count": 58,
   "metadata": {},
   "outputs": [
    {
     "name": "stdout",
     "output_type": "stream",
     "text": [
      "\\begin{tabular}{rrrrr}\n",
      "\\toprule\n",
      "  A &  S &   U &   D &  W\\_q \\\\\n",
      "\\midrule\n",
      "  0 &  6 &   0 &   6 &    0 \\\\\n",
      "  6 &  4 &   6 &  10 &    0 \\\\\n",
      "  9 &  6 &  10 &  16 &    1 \\\\\n",
      " 10 &  1 &  16 &  17 &    6 \\\\\n",
      " 15 &  2 &  17 &  19 &    2 \\\\\n",
      " 17 &  1 &  19 &  20 &    2 \\\\\n",
      " 19 &  3 &  20 &  23 &    1 \\\\\n",
      " 23 &  5 &  23 &  28 &    0 \\\\\n",
      " 29 &  8 &  29 &  37 &    0 \\\\\n",
      " 35 &  6 &  37 &  43 &    2 \\\\\n",
      "\\bottomrule\n",
      "\\end{tabular}\n",
      "\n"
     ]
    }
   ],
   "source": [
    "df = pd.DataFrame(dict(A=A,S=S,U=U,D=D,W_q=W_q))\n",
    "print(df.to_latex(index=False))"
   ]
  },
  {
   "cell_type": "code",
   "execution_count": 59,
   "metadata": {},
   "outputs": [
    {
     "name": "stdout",
     "output_type": "stream",
     "text": [
      "1.4\n"
     ]
    }
   ],
   "source": [
    "W_q_ave = sum(W_q)/len(W_q)\n",
    "print(W_q_ave)"
   ]
  },
  {
   "cell_type": "code",
   "execution_count": 60,
   "metadata": {},
   "outputs": [
    {
     "data": {
      "image/png": "[encoded data removed]",
      "text/plain": [
       "<Figure size 432x288 with 1 Axes>"
      ]
     },
     "metadata": {
      "needs_background": "light"
     },
     "output_type": "display_data"
    }
   ],
   "source": [
    "plt.plot([0]+Ti,[0]+N_q,drawstyle='steps-post')\n",
    "plt.yticks(range(max(N_q)+1))\n",
    "plt.xticks(list(set([i*(i%5==0) for i in range(max(Ti)+1)])))\n",
    "plt.show()"
   ]
  },
  {
   "cell_type": "markdown",
   "metadata": {},
   "source": [
    "## 4 (b)"
   ]
  },
  {
   "cell_type": "code",
   "execution_count": 61,
   "metadata": {},
   "outputs": [],
   "source": [
    "A=[0,6,9,10,15,17,19,23,29,35]\n",
    "S=[6,4,6,1,2,1,3,5,8,6] # From 4 (a)\n",
    "S=[2*s for s in S]"
   ]
  },
  {
   "cell_type": "code",
   "execution_count": 62,
   "metadata": {},
   "outputs": [
    {
     "name": "stdout",
     "output_type": "stream",
     "text": [
      "[0, 6, 12, 14, 16, 20, 22, 24, 29, 35]\n",
      "[12, 14, 24, 16, 20, 22, 28, 34, 45, 47]\n"
     ]
    }
   ],
   "source": [
    "D = [0 for i in range(len(A))]\n",
    "U = D.copy()\n",
    "U[0] = A[0]\n",
    "U[1] = A[1]\n",
    "D[0] = U[0] + S[0]\n",
    "for i in range(1, len(A)):\n",
    "    D[i] = U[i] + S[i]\n",
    "    if i < len(A)-1:\n",
    "        U[i+1] = max(min(max(D), max(D[:D.index(max(D))]+D[D.index(max(D))+1:])), A[i+1])\n",
    "print(U)\n",
    "print(D)"
   ]
  },
  {
   "cell_type": "code",
   "execution_count": 63,
   "metadata": {},
   "outputs": [
    {
     "name": "stdout",
     "output_type": "stream",
     "text": [
      "[0, 6, 9, 10, 12, 14, 15, 16, 17, 19, 20, 22, 23, 24, 29, 35]\n"
     ]
    }
   ],
   "source": [
    "Ti = list(set(A+U))\n",
    "Ti.sort()\n",
    "print(Ti)"
   ]
  },
  {
   "cell_type": "code",
   "execution_count": 64,
   "metadata": {},
   "outputs": [
    {
     "name": "stdout",
     "output_type": "stream",
     "text": [
      "[0, 0, 1, 2, 1, 0, 1, 0, 1, 2, 1, 0, 1, 0, 0, 0]\n"
     ]
    }
   ],
   "source": [
    "N_q=[sum([a <= t for a in A])-sum([u <= t for u in U]) for t in Ti]\n",
    "print(N_q)"
   ]
  },
  {
   "cell_type": "code",
   "execution_count": 65,
   "metadata": {},
   "outputs": [
    {
     "name": "stdout",
     "output_type": "stream",
     "text": [
      "0.3488372093023256\n"
     ]
    }
   ],
   "source": [
    "L_q = sum([n*t for n,t in zip(N_q,np.diff(Ti))])/D_4a\n",
    "print(L_q)"
   ]
  },
  {
   "cell_type": "code",
   "execution_count": 66,
   "metadata": {},
   "outputs": [
    {
     "name": "stdout",
     "output_type": "stream",
     "text": [
      "[0, 0, 3, 4, 1, 3, 3, 1, 0, 0]\n"
     ]
    }
   ],
   "source": [
    "W_q = [u-a for u,a in zip(U,A)]\n",
    "print(W_q)"
   ]
  },
  {
   "cell_type": "code",
   "execution_count": 67,
   "metadata": {},
   "outputs": [
    {
     "name": "stdout",
     "output_type": "stream",
     "text": [
      "\\begin{tabular}{rrrrr}\n",
      "\\toprule\n",
      "  A &   S &   U &   D &  W\\_q \\\\\n",
      "\\midrule\n",
      "  0 &  12 &   0 &  12 &    0 \\\\\n",
      "  6 &   8 &   6 &  14 &    0 \\\\\n",
      "  9 &  12 &  12 &  24 &    3 \\\\\n",
      " 10 &   2 &  14 &  16 &    4 \\\\\n",
      " 15 &   4 &  16 &  20 &    1 \\\\\n",
      " 17 &   2 &  20 &  22 &    3 \\\\\n",
      " 19 &   6 &  22 &  28 &    3 \\\\\n",
      " 23 &  10 &  24 &  34 &    1 \\\\\n",
      " 29 &  16 &  29 &  45 &    0 \\\\\n",
      " 35 &  12 &  35 &  47 &    0 \\\\\n",
      "\\bottomrule\n",
      "\\end{tabular}\n",
      "\n"
     ]
    }
   ],
   "source": [
    "df = pd.DataFrame(dict(A=A,S=S,U=U,D=D,W_q=W_q))\n",
    "print(df.to_latex(index=False))"
   ]
  },
  {
   "cell_type": "code",
   "execution_count": 68,
   "metadata": {},
   "outputs": [
    {
     "name": "stdout",
     "output_type": "stream",
     "text": [
      "1.5\n"
     ]
    }
   ],
   "source": [
    "W_q_ave = sum(W_q)/len(W_q)\n",
    "print(W_q_ave)"
   ]
  },
  {
   "cell_type": "code",
   "execution_count": 69,
   "metadata": {},
   "outputs": [
    {
     "data": {
      "image/png": "[encoded data removed]",
      "text/plain": [
       "<Figure size 432x288 with 1 Axes>"
      ]
     },
     "metadata": {
      "needs_background": "light"
     },
     "output_type": "display_data"
    }
   ],
   "source": [
    "plt.plot([0]+Ti,[0]+N_q,drawstyle='steps-post')\n",
    "plt.yticks(range(max(N_q)+1))\n",
    "plt.xticks(list(set([i*(i%5==0) for i in range(max(Ti)+1)])))\n",
    "plt.show()"
   ]
  },
  {
   "cell_type": "markdown",
   "metadata": {},
   "source": [
    "# Problem 5"
   ]
  },
  {
   "cell_type": "code",
   "execution_count": 70,
   "metadata": {},
   "outputs": [
    {
     "name": "stdout",
     "output_type": "stream",
     "text": [
      "0.8333333333333334 1.25\n"
     ]
    }
   ],
   "source": [
    "arr_frac = 0.5\n",
    "dep_frac = 1 - arr_frac\n",
    "arr_hold_mean = 1\n",
    "dep_hold_mean = 1.5\n",
    "rate_hr = 50\n",
    "rate = rate_hr/60\n",
    "service_mean = arr_frac * arr_hold_mean + dep_frac * dep_hold_mean\n",
    "rho = rate*service_mean\n",
    "print(rate, service_mean)"
   ]
  },
  {
   "cell_type": "code",
   "execution_count": 71,
   "metadata": {},
   "outputs": [],
   "source": [
    "num_ops = 400\n",
    "N = 10000"
   ]
  },
  {
   "cell_type": "code",
   "execution_count": 72,
   "metadata": {},
   "outputs": [],
   "source": [
    "def sim(arr_frac, arr_hold_mean, dep_hold_mean, rate_hr, num_ops, exp_service = True):\n",
    "    rate = rate_hr/60\n",
    "    T = np.random.exponential(1/rate,num_ops)\n",
    "    op_type = np.random.binomial(1, arr_frac, num_ops)\n",
    "    if exp_service:\n",
    "        S = [np.random.exponential(arr_hold_mean) if b==1 \n",
    "            else np.random.exponential(dep_hold_mean) for b in op_type]\n",
    "    else:\n",
    "        S = [arr_hold_mean if b==1 else dep_hold_mean for b in op_type]\n",
    "    A = [0] + list(np.cumsum(T[:-1]))\n",
    "    D = [0 for i in range(len(A))]\n",
    "    D[0] = S[0] + A[0]\n",
    "    for i in range(1,len(A)):\n",
    "        D[i] = S[i] + max(D[i-1], A[i])\n",
    "    W_q_n = [d-s-a for d,s,a in zip(D,S,A)]\n",
    "    return sum(W_q_n)/num_ops"
   ]
  },
  {
   "cell_type": "code",
   "execution_count": 73,
   "metadata": {},
   "outputs": [],
   "source": [
    "rates = [i*5 for i in range(1,11)]"
   ]
  },
  {
   "cell_type": "code",
   "execution_count": 74,
   "metadata": {},
   "outputs": [],
   "source": [
    "data = [[sim(arr_frac, arr_hold_mean, dep_hold_mean, r, num_ops, False) for i in range(N)] for r in rates]"
   ]
  },
  {
   "cell_type": "code",
   "execution_count": 75,
   "metadata": {},
   "outputs": [],
   "source": [
    "df = pd.DataFrame(data)\n",
    "df = df.transpose()\n",
    "df = df.rename(columns=dict(zip([i for i in range(10)],rates)))"
   ]
  },
  {
   "cell_type": "code",
   "execution_count": 76,
   "metadata": {},
   "outputs": [
    {
     "data": {
      "image/png": "[encoded data removed]",
      "text/plain": [
       "<Figure size 432x288 with 1 Axes>"
      ]
     },
     "metadata": {
      "needs_background": "light"
     },
     "output_type": "display_data"
    }
   ],
   "source": [
    "plt.figure()\n",
    "df.boxplot()\n",
    "x = np.arange(1, 9.45, 0.01)\n",
    "y = [i*5*service_mean/60/(1/service_mean-i*5/60) for i in x]\n",
    "plt.plot(x,y)\n",
    "#plt.title('Average queue-waiting time')\n",
    "plt.xlabel(r'$\\lambda$'+' (operations / hr)')\n",
    "plt.ylabel(r'$W_q$'+' (min)')\n",
    "plt.savefig('W_q1.pdf')\n",
    "plt.show()"
   ]
  },
  {
   "cell_type": "code",
   "execution_count": 77,
   "metadata": {},
   "outputs": [
    {
     "data": {
      "image/png": "[encoded data removed]",
      "text/plain": [
       "<Figure size 432x288 with 2 Axes>"
      ]
     },
     "metadata": {
      "needs_background": "light"
     },
     "output_type": "display_data"
    }
   ],
   "source": [
    "m = [rate*service_mean/60/(1/service_mean-rate/60) for rate in rates][:-1]\n",
    "d = np.array(df.mean())[:-1]\n",
    "rho = np.array(rates)*service_mean/60\n",
    "err = abs((d-m)/d)\n",
    "#plt.title('Relative error by arrival rate')\n",
    "plt.ylabel('Relative error')\n",
    "plt.plot(rates[:-1],err)\n",
    "plt.xlabel(r'$\\lambda$'+' (operations / hr)')\n",
    "plt.twiny()\n",
    "plt.xlabel(r'$\\rho$')\n",
    "plt.plot(rates[:-1],err, alpha=0)\n",
    "plt.gca().set_xticklabels([0]+[round(r,2) for r in rho][:-1])\n",
    "plt.savefig('er1.pdf')\n",
    "plt.show()"
   ]
  },
  {
   "cell_type": "code",
   "execution_count": 78,
   "metadata": {},
   "outputs": [
    {
     "name": "stdout",
     "output_type": "stream",
     "text": [
      "0.8333333333333334 1.375\n"
     ]
    }
   ],
   "source": [
    "arr_frac = 0.25\n",
    "dep_frac = 1 - arr_frac\n",
    "arr_hold_mean = 1\n",
    "dep_hold_mean = 1.5\n",
    "rate_hr = 50\n",
    "rate = rate_hr/60\n",
    "service_mean = arr_frac * arr_hold_mean + dep_frac * dep_hold_mean\n",
    "rho = rate*service_mean\n",
    "print(rate, service_mean)"
   ]
  },
  {
   "cell_type": "code",
   "execution_count": 79,
   "metadata": {},
   "outputs": [],
   "source": [
    "data = [[sim(arr_frac, arr_hold_mean, dep_hold_mean, r, num_ops, False) for i in range(N)] for r in rates]"
   ]
  },
  {
   "cell_type": "code",
   "execution_count": 80,
   "metadata": {},
   "outputs": [],
   "source": [
    "df = pd.DataFrame(data)\n",
    "df = df.transpose()\n",
    "df = df.rename(columns=dict(zip([i for i in range(10)],rates)))"
   ]
  },
  {
   "cell_type": "code",
   "execution_count": 81,
   "metadata": {},
   "outputs": [
    {
     "data": {
      "image/png": "[encoded data removed]",
      "text/plain": [
       "<Figure size 432x288 with 1 Axes>"
      ]
     },
     "metadata": {
      "needs_background": "light"
     },
     "output_type": "display_data"
    }
   ],
   "source": [
    "df.boxplot()\n",
    "x = np.arange(1, 8.6, 0.01)\n",
    "y = [i*5*service_mean/60/(1/service_mean-i*5/60) for i in x]\n",
    "plt.plot(x,y)\n",
    "#plt.title('Average queue-waiting time')\n",
    "plt.xlabel(r'$\\lambda$'+' (operations / hr)')\n",
    "plt.ylabel(r'$W_q$'+' (min)')\n",
    "plt.savefig('W_q2.pdf')\n",
    "plt.show()"
   ]
  },
  {
   "cell_type": "code",
   "execution_count": 82,
   "metadata": {},
   "outputs": [
    {
     "data": {
      "image/png": "[encoded data removed]",
      "text/plain": [
       "<Figure size 432x288 with 2 Axes>"
      ]
     },
     "metadata": {
      "needs_background": "light"
     },
     "output_type": "display_data"
    }
   ],
   "source": [
    "m = [rate*service_mean/60/(1/service_mean-rate/60) for rate in rates][:-2]\n",
    "d = np.array(df.mean())[:-2]\n",
    "rho = np.array(rates)*service_mean/60\n",
    "err = abs((d-m)/d)\n",
    "#plt.title('Relative error by arrival rate')\n",
    "plt.ylabel('Relative error')\n",
    "plt.plot(rates[:-2],err)\n",
    "plt.xlabel(r'$\\lambda$'+' (operations / hr)')\n",
    "plt.twiny()\n",
    "plt.xlabel(r'$\\rho$')\n",
    "plt.plot(rates[:-2],err, alpha=0)\n",
    "plt.gca().set_xticklabels([0]+[round(r,2) for r in rho])\n",
    "plt.savefig('er2.pdf')\n",
    "plt.show()"
   ]
  },
  {
   "cell_type": "code",
   "execution_count": 83,
   "metadata": {},
   "outputs": [
    {
     "name": "stdout",
     "output_type": "stream",
     "text": [
      "0.8333333333333334 1.25\n"
     ]
    }
   ],
   "source": [
    "arr_frac = 0.5\n",
    "dep_frac = 1 - arr_frac\n",
    "arr_hold_mean = 1\n",
    "dep_hold_mean = 1.5\n",
    "rate_hr = 50\n",
    "rate = rate_hr/60\n",
    "service_mean = arr_frac * arr_hold_mean + dep_frac * dep_hold_mean\n",
    "rho = rate*service_mean\n",
    "print(rate, service_mean)"
   ]
  },
  {
   "cell_type": "code",
   "execution_count": 84,
   "metadata": {},
   "outputs": [],
   "source": [
    "num_ops = 400\n",
    "N = 1000"
   ]
  },
  {
   "cell_type": "code",
   "execution_count": 85,
   "metadata": {},
   "outputs": [],
   "source": [
    "def sim(arr_frac, arr_hold_mean, dep_hold_mean, rate_hr, num_ops, exp_service = True):\n",
    "    rate = rate_hr/60\n",
    "    T = np.random.exponential(1/rate,num_ops)\n",
    "    op_type = np.random.binomial(1, arr_frac, num_ops)\n",
    "    if exp_service:\n",
    "        S = [np.random.exponential(arr_hold_mean) if b==1 \n",
    "            else np.random.exponential(dep_hold_mean) for b in op_type]\n",
    "    else:\n",
    "        S = [arr_hold_mean if b==1 else dep_hold_mean for b in op_type]\n",
    "    A = [0] + list(np.cumsum(T[:-1]))\n",
    "    D = [0 for i in range(len(A))]\n",
    "    D[0] = S[0] + A[0]\n",
    "    for i in range(1,len(A)):\n",
    "        D[i] = S[i] + max(D[i-1], A[i])\n",
    "    W_q_n = [d-s-a for d,s,a in zip(D,S,A)]\n",
    "    return sum(W_q_n)/num_ops"
   ]
  },
  {
   "cell_type": "code",
   "execution_count": 86,
   "metadata": {},
   "outputs": [],
   "source": [
    "rates = [i*5 for i in range(1,11)]"
   ]
  },
  {
   "cell_type": "code",
   "execution_count": 87,
   "metadata": {},
   "outputs": [],
   "source": [
    "data = [[sim(arr_frac, arr_hold_mean, dep_hold_mean, r, num_ops, True) for i in range(N)] for r in rates]"
   ]
  },
  {
   "cell_type": "code",
   "execution_count": 88,
   "metadata": {},
   "outputs": [],
   "source": [
    "df = pd.DataFrame(data)\n",
    "df = df.transpose()\n",
    "df = df.rename(columns=dict(zip([i for i in range(10)],rates)))"
   ]
  },
  {
   "cell_type": "code",
   "execution_count": 89,
   "metadata": {},
   "outputs": [
    {
     "data": {
      "image/png": "[encoded data removed]",
      "text/plain": [
       "<Figure size 432x288 with 1 Axes>"
      ]
     },
     "metadata": {
      "needs_background": "light"
     },
     "output_type": "display_data"
    }
   ],
   "source": [
    "plt.figure()\n",
    "df.boxplot()\n",
    "x = np.arange(1, 9.45, 0.01)\n",
    "y = [i*5*service_mean/60/(1/service_mean-i*5/60) for i in x]\n",
    "plt.plot(x,y)\n",
    "plt.title('Average queue-waiting time')\n",
    "plt.xlabel(r'$\\lambda$'+' (operations / hr)')\n",
    "plt.ylabel(r'$W_q$'+' (min)')\n",
    "plt.show()"
   ]
  },
  {
   "cell_type": "code",
   "execution_count": 90,
   "metadata": {},
   "outputs": [
    {
     "data": {
      "image/png": "[encoded data removed]",
      "text/plain": [
       "<Figure size 432x288 with 2 Axes>"
      ]
     },
     "metadata": {
      "needs_background": "light"
     },
     "output_type": "display_data"
    }
   ],
   "source": [
    "m = [rate*service_mean/60/(1/service_mean-rate/60) for rate in rates][:-1]\n",
    "d = np.array(df.mean())[:-1]\n",
    "rho = np.array(rates)*service_mean/60\n",
    "err = abs((d-m)/d)\n",
    "plt.title('Relative error by arrival rate')\n",
    "plt.ylabel('Relative error')\n",
    "plt.plot(rates[:-1],err)\n",
    "plt.xlabel(r'$\\lambda$'+' (operations / hr)')\n",
    "plt.twiny()\n",
    "plt.xlabel(r'$\\rho$')\n",
    "plt.plot(rates[:-1],err, alpha=0)\n",
    "plt.gca().set_xticklabels([0]+[round(r,2) for r in rho][:-1])\n",
    "plt.show()"
   ]
  },
  {
   "cell_type": "code",
   "execution_count": 91,
   "metadata": {},
   "outputs": [
    {
     "name": "stdout",
     "output_type": "stream",
     "text": [
      "0.8333333333333334 1.375\n"
     ]
    }
   ],
   "source": [
    "arr_frac = 0.25\n",
    "dep_frac = 1 - arr_frac\n",
    "arr_hold_mean = 1\n",
    "dep_hold_mean = 1.5\n",
    "rate_hr = 50\n",
    "rate = rate_hr/60\n",
    "service_mean = arr_frac * arr_hold_mean + dep_frac * dep_hold_mean\n",
    "rho = rate*service_mean\n",
    "print(rate, service_mean)"
   ]
  },
  {
   "cell_type": "code",
   "execution_count": 92,
   "metadata": {},
   "outputs": [],
   "source": [
    "data = [[sim(arr_frac, arr_hold_mean, dep_hold_mean, r, num_ops, True) for i in range(N)] for r in rates]"
   ]
  },
  {
   "cell_type": "code",
   "execution_count": 93,
   "metadata": {},
   "outputs": [],
   "source": [
    "df = pd.DataFrame(data)\n",
    "df = df.transpose()\n",
    "df = df.rename(columns=dict(zip([i for i in range(10)],rates)))"
   ]
  },
  {
   "cell_type": "code",
   "execution_count": 94,
   "metadata": {},
   "outputs": [
    {
     "data": {
      "image/png": "[encoded data removed]",
      "text/plain": [
       "<Figure size 432x288 with 1 Axes>"
      ]
     },
     "metadata": {
      "needs_background": "light"
     },
     "output_type": "display_data"
    }
   ],
   "source": [
    "df.boxplot()\n",
    "x = np.arange(1, 8.6, 0.01)\n",
    "y = [i*5*service_mean/60/(1/service_mean-i*5/60) for i in x]\n",
    "plt.plot(x,y)\n",
    "plt.title('Average queue-waiting time')\n",
    "plt.xlabel(r'$\\lambda$'+' (operations / hr)')\n",
    "plt.ylabel(r'$W_q$'+' (min)')\n",
    "plt.show()"
   ]
  },
  {
   "cell_type": "code",
   "execution_count": 95,
   "metadata": {},
   "outputs": [
    {
     "data": {
      "image/png": "[encoded data removed]",
      "text/plain": [
       "<Figure size 432x288 with 2 Axes>"
      ]
     },
     "metadata": {
      "needs_background": "light"
     },
     "output_type": "display_data"
    }
   ],
   "source": [
    "m = [rate*service_mean/60/(1/service_mean-rate/60) for rate in rates][:-2]\n",
    "d = np.array(df.mean())[:-2]\n",
    "rho = np.array(rates)*service_mean/60\n",
    "err = abs((d-m)/d)\n",
    "plt.title('Relative error by arrival rate')\n",
    "plt.ylabel('Relative error')\n",
    "plt.plot(rates[:-2],err)\n",
    "plt.xlabel(r'$\\lambda$'+' (operations / hr)')\n",
    "plt.twiny()\n",
    "plt.xlabel(r'$\\rho$')\n",
    "plt.plot(rates[:-2],err, alpha=0)\n",
    "plt.gca().set_xticklabels([0]+[round(r,2) for r in rho])\n",
    "plt.show()"
   ]
  },
  {
   "cell_type": "code",
   "execution_count": 96,
   "metadata": {},
   "outputs": [
    {
     "name": "stdout",
     "output_type": "stream",
     "text": [
      "0.8333333333333334 1.25\n"
     ]
    }
   ],
   "source": [
    "arr_frac = 0.5\n",
    "dep_frac = 1 - arr_frac\n",
    "arr_hold_mean = 1\n",
    "dep_hold_mean = 1.5\n",
    "rate_hr = 50\n",
    "rate = rate_hr/60\n",
    "service_mean = arr_frac * arr_hold_mean + dep_frac * dep_hold_mean\n",
    "rho = rate*service_mean\n",
    "print(rate, service_mean)"
   ]
  },
  {
   "cell_type": "code",
   "execution_count": 97,
   "metadata": {},
   "outputs": [
    {
     "data": {
      "text/plain": [
       "1.214784888142926"
      ]
     },
     "execution_count": 97,
     "metadata": {},
     "output_type": "execute_result"
    }
   ],
   "source": [
    "T = np.random.exponential(1/rate,num_ops)\n",
    "np.mean(T)"
   ]
  },
  {
   "cell_type": "code",
   "execution_count": 98,
   "metadata": {},
   "outputs": [
    {
     "data": {
      "text/plain": [
       "0.4825"
      ]
     },
     "execution_count": 98,
     "metadata": {},
     "output_type": "execute_result"
    }
   ],
   "source": [
    "op_type = np.random.binomial(1, arr_frac, num_ops)\n",
    "np.mean(op_type)"
   ]
  },
  {
   "cell_type": "code",
   "execution_count": 99,
   "metadata": {},
   "outputs": [
    {
     "data": {
      "text/plain": [
       "1.25875"
      ]
     },
     "execution_count": 99,
     "metadata": {},
     "output_type": "execute_result"
    }
   ],
   "source": [
    "S = [arr_hold_mean if b==1 else dep_hold_mean for b in op_type]\n",
    "np.mean(S)"
   ]
  },
  {
   "cell_type": "code",
   "execution_count": 100,
   "metadata": {},
   "outputs": [],
   "source": [
    "#S = [np.random.exponential(arr_hold_mean) \n",
    "#             if b==1 \n",
    "#             else np.random.exponential(dep_hold_mean) for b in op_type]\n",
    "#np.mean(S)"
   ]
  },
  {
   "cell_type": "code",
   "execution_count": 101,
   "metadata": {},
   "outputs": [],
   "source": [
    "A = [0] + list(np.cumsum(T[:-1]))"
   ]
  },
  {
   "cell_type": "code",
   "execution_count": 102,
   "metadata": {},
   "outputs": [],
   "source": [
    "D = [0 for i in range(len(A))]\n",
    "D[0] = S[0] + A[0]\n",
    "for i in range(1,len(A)):\n",
    "    D[i] = S[i] + max(D[i-1], A[i])"
   ]
  },
  {
   "cell_type": "code",
   "execution_count": 103,
   "metadata": {},
   "outputs": [
    {
     "data": {
      "text/plain": [
       "511.50722211258096"
      ]
     },
     "execution_count": 103,
     "metadata": {},
     "output_type": "execute_result"
    }
   ],
   "source": [
    "D[-1]"
   ]
  },
  {
   "cell_type": "code",
   "execution_count": 104,
   "metadata": {},
   "outputs": [],
   "source": [
    "W_q_n = [d-s-a for d,s,a in zip(D,S,A)]"
   ]
  },
  {
   "cell_type": "code",
   "execution_count": 105,
   "metadata": {},
   "outputs": [
    {
     "name": "stdout",
     "output_type": "stream",
     "text": [
      "9.410942957600405\n"
     ]
    }
   ],
   "source": [
    "W_q = sum(W_q_n)/D[-1]\n",
    "print(W_q)"
   ]
  },
  {
   "cell_type": "code",
   "execution_count": 106,
   "metadata": {},
   "outputs": [
    {
     "data": {
      "text/plain": [
       "[True]"
      ]
     },
     "execution_count": 106,
     "metadata": {},
     "output_type": "execute_result"
    }
   ],
   "source": [
    "[i in range(len(W_q_n))]"
   ]
  },
  {
   "cell_type": "code",
   "execution_count": 107,
   "metadata": {},
   "outputs": [
    {
     "data": {
      "image/png": "[encoded data removed]",
      "text/plain": [
       "<Figure size 640x300 with 1 Axes>"
      ]
     },
     "metadata": {
      "needs_background": "light"
     },
     "output_type": "display_data"
    }
   ],
   "source": [
    "plt.figure(figsize=(6.4,3),dpi=100)\n",
    "plt.bar([i for i in range(len(W_q_n))],W_q_n,1)\n",
    "#plt.title('Sample queue-waiting times')\n",
    "plt.ylabel(r'$W_q^{(n)}$'+' (min)')\n",
    "plt.xlabel('Operation index (n)')\n",
    "plt.tight_layout()\n",
    "#plt.savefig('path.pdf')\n",
    "plt.show()"
   ]
  },
  {
   "cell_type": "markdown",
   "metadata": {},
   "source": [
    "# Problem 6"
   ]
  },
  {
   "cell_type": "code",
   "execution_count": 108,
   "metadata": {},
   "outputs": [
    {
     "name": "stdout",
     "output_type": "stream",
     "text": [
      "0.75 0.3333333333333333\n"
     ]
    }
   ],
   "source": [
    "c = 3\n",
    "\n",
    "lam = 45/60\n",
    "mu = 1/3\n",
    "print(lam, mu)"
   ]
  },
  {
   "cell_type": "code",
   "execution_count": 109,
   "metadata": {},
   "outputs": [
    {
     "name": "stdout",
     "output_type": "stream",
     "text": [
      "2.25\n"
     ]
    }
   ],
   "source": [
    "r = lam / mu\n",
    "print(r)"
   ]
  },
  {
   "cell_type": "code",
   "execution_count": 110,
   "metadata": {},
   "outputs": [
    {
     "name": "stdout",
     "output_type": "stream",
     "text": [
      "0.75\n"
     ]
    }
   ],
   "source": [
    "rho = r / c\n",
    "print(rho)"
   ]
  },
  {
   "cell_type": "code",
   "execution_count": 111,
   "metadata": {},
   "outputs": [
    {
     "name": "stdout",
     "output_type": "stream",
     "text": [
      "0.07476635514018691\n"
     ]
    }
   ],
   "source": [
    "n = r**c\n",
    "d = factorial(c)*(1-rho)\n",
    "s = sum([r**i/factorial(i) for i in range(c)])\n",
    "p_0 = 1 / (n/d + s)\n",
    "print(p_0)"
   ]
  },
  {
   "cell_type": "code",
   "execution_count": 112,
   "metadata": {},
   "outputs": [
    {
     "name": "stdout",
     "output_type": "stream",
     "text": [
      "1.703271028037383\n"
     ]
    }
   ],
   "source": [
    "L_q = n*rho/(d *(1-rho))*p_0\n",
    "print(L_q)"
   ]
  },
  {
   "cell_type": "code",
   "execution_count": 113,
   "metadata": {},
   "outputs": [
    {
     "name": "stdout",
     "output_type": "stream",
     "text": [
      "5.271028037383177\n"
     ]
    }
   ],
   "source": [
    "W = (1/mu) + L_q/lam\n",
    "print(W)"
   ]
  },
  {
   "cell_type": "markdown",
   "metadata": {},
   "source": [
    "# Problem 7"
   ]
  },
  {
   "cell_type": "code",
   "execution_count": 114,
   "metadata": {},
   "outputs": [
    {
     "name": "stdout",
     "output_type": "stream",
     "text": [
      "1.25 0.5\n"
     ]
    }
   ],
   "source": [
    "c = 5\n",
    "lam = 75/60\n",
    "mu = 1/2\n",
    "print(lam, mu)"
   ]
  },
  {
   "cell_type": "code",
   "execution_count": 115,
   "metadata": {},
   "outputs": [
    {
     "name": "stdout",
     "output_type": "stream",
     "text": [
      "2.5\n"
     ]
    }
   ],
   "source": [
    "r = lam / mu\n",
    "print(r)"
   ]
  },
  {
   "cell_type": "code",
   "execution_count": 116,
   "metadata": {},
   "outputs": [
    {
     "name": "stdout",
     "output_type": "stream",
     "text": [
      "0.5\n"
     ]
    }
   ],
   "source": [
    "rho = r / c\n",
    "print(rho)"
   ]
  },
  {
   "cell_type": "markdown",
   "metadata": {},
   "source": [
    "## 7 (b)"
   ]
  },
  {
   "cell_type": "code",
   "execution_count": 117,
   "metadata": {},
   "outputs": [
    {
     "name": "stdout",
     "output_type": "stream",
     "text": [
      "0.08010012515644557\n"
     ]
    }
   ],
   "source": [
    "n = r**c\n",
    "d = factorial(c)*(1-rho)\n",
    "s = sum([r**i/factorial(i) for i in range(c)])\n",
    "p_0 = 1 / (n/d + s)\n",
    "print(p_0)"
   ]
  },
  {
   "cell_type": "code",
   "execution_count": 118,
   "metadata": {},
   "outputs": [
    {
     "name": "stdout",
     "output_type": "stream",
     "text": [
      "0.7392574050896956\n"
     ]
    }
   ],
   "source": [
    "p_n = sum([lam**i/factorial(i)/mu**i*p_0 for i in range(4)])\n",
    "print(p_n)"
   ]
  },
  {
   "cell_type": "markdown",
   "metadata": {},
   "source": [
    "## 7 (c)"
   ]
  },
  {
   "cell_type": "code",
   "execution_count": 119,
   "metadata": {},
   "outputs": [
    {
     "name": "stdout",
     "output_type": "stream",
     "text": [
      "0.1303712974551523\n"
     ]
    }
   ],
   "source": [
    "L_q = n*rho/(d *(1-rho))*p_0\n",
    "print(L_q)"
   ]
  },
  {
   "cell_type": "markdown",
   "metadata": {},
   "source": [
    "# Problem 8"
   ]
  },
  {
   "cell_type": "code",
   "execution_count": 120,
   "metadata": {},
   "outputs": [
    {
     "name": "stdout",
     "output_type": "stream",
     "text": [
      "18 20\n"
     ]
    }
   ],
   "source": [
    "lam = 18\n",
    "mu = 20\n",
    "print(lam, mu)"
   ]
  },
  {
   "cell_type": "code",
   "execution_count": 121,
   "metadata": {},
   "outputs": [
    {
     "name": "stdout",
     "output_type": "stream",
     "text": [
      "0.9\n"
     ]
    }
   ],
   "source": [
    "r = lam / mu\n",
    "print(r)"
   ]
  },
  {
   "cell_type": "markdown",
   "metadata": {},
   "source": [
    "## 8 (a)"
   ]
  },
  {
   "cell_type": "code",
   "execution_count": 122,
   "metadata": {},
   "outputs": [
    {
     "name": "stdout",
     "output_type": "stream",
     "text": [
      "0.9\n"
     ]
    }
   ],
   "source": [
    "c = 1\n",
    "rho = r / c\n",
    "print(rho)"
   ]
  },
  {
   "cell_type": "code",
   "execution_count": 123,
   "metadata": {},
   "outputs": [
    {
     "name": "stdout",
     "output_type": "stream",
     "text": [
      "0.09999999999999998\n"
     ]
    }
   ],
   "source": [
    "n = r**c\n",
    "d = factorial(c)*(1-rho)\n",
    "s = sum([r**i/factorial(i) for i in range(c)])\n",
    "p_0 = 1 / (n/d + s)\n",
    "print(p_0)"
   ]
  },
  {
   "cell_type": "code",
   "execution_count": 124,
   "metadata": {},
   "outputs": [
    {
     "name": "stdout",
     "output_type": "stream",
     "text": [
      "8.100000000000003\n"
     ]
    }
   ],
   "source": [
    "L_q = n*rho/(d *(1-rho))*p_0\n",
    "print(L_q)"
   ]
  },
  {
   "cell_type": "code",
   "execution_count": 125,
   "metadata": {},
   "outputs": [
    {
     "name": "stdout",
     "output_type": "stream",
     "text": [
      "8.100000000000003\n"
     ]
    }
   ],
   "source": [
    "L_q = rho**2/(1-rho)\n",
    "print(L_q)"
   ]
  },
  {
   "cell_type": "code",
   "execution_count": 126,
   "metadata": {},
   "outputs": [
    {
     "data": {
      "text/plain": [
       "53.2"
      ]
     },
     "execution_count": 126,
     "metadata": {},
     "output_type": "execute_result"
    }
   ],
   "source": [
    "r * 40 + (c - r) * 10 + L_q * 2"
   ]
  },
  {
   "cell_type": "markdown",
   "metadata": {},
   "source": [
    "## 8 (b)"
   ]
  },
  {
   "cell_type": "code",
   "execution_count": 127,
   "metadata": {},
   "outputs": [
    {
     "name": "stdout",
     "output_type": "stream",
     "text": [
      "0.45\n"
     ]
    }
   ],
   "source": [
    "c = 2\n",
    "rho = r / c\n",
    "print(rho)"
   ]
  },
  {
   "cell_type": "code",
   "execution_count": 128,
   "metadata": {},
   "outputs": [
    {
     "name": "stdout",
     "output_type": "stream",
     "text": [
      "0.37931034482758624\n"
     ]
    }
   ],
   "source": [
    "n = r**c\n",
    "d = factorial(c)*(1-rho)\n",
    "s = sum([r**i/factorial(i) for i in range(c)])\n",
    "p_0 = 1 / (n/d + s)\n",
    "print(p_0)"
   ]
  },
  {
   "cell_type": "code",
   "execution_count": 129,
   "metadata": {},
   "outputs": [
    {
     "name": "stdout",
     "output_type": "stream",
     "text": [
      "0.22852664576802512\n"
     ]
    }
   ],
   "source": [
    "L_q = n*rho/(d *(1-rho))*p_0\n",
    "print(L_q)"
   ]
  },
  {
   "cell_type": "code",
   "execution_count": 130,
   "metadata": {},
   "outputs": [
    {
     "data": {
      "text/plain": [
       "47.45705329153605"
      ]
     },
     "execution_count": 130,
     "metadata": {},
     "output_type": "execute_result"
    }
   ],
   "source": [
    "r * 40 + (c - r) * 10 + L_q * 2"
   ]
  },
  {
   "cell_type": "markdown",
   "metadata": {},
   "source": [
    "# Problem 9 (3.32)"
   ]
  },
  {
   "cell_type": "code",
   "execution_count": 131,
   "metadata": {},
   "outputs": [],
   "source": [
    "def approx(alpha, beta):\n",
    "    return norm.pdf(beta)/(norm.pdf(beta) + beta * norm.cdf(beta)) - alpha"
   ]
  },
  {
   "cell_type": "markdown",
   "metadata": {},
   "source": [
    "## 9 (a)"
   ]
  },
  {
   "cell_type": "code",
   "execution_count": 132,
   "metadata": {},
   "outputs": [
    {
     "name": "stdout",
     "output_type": "stream",
     "text": [
      "8.333333333333334 0.5\n"
     ]
    }
   ],
   "source": [
    "lam = 500 / 60\n",
    "mu = 1 / 2\n",
    "print(lam, mu)"
   ]
  },
  {
   "cell_type": "code",
   "execution_count": 133,
   "metadata": {},
   "outputs": [
    {
     "name": "stdout",
     "output_type": "stream",
     "text": [
      "16.666666666666668\n"
     ]
    }
   ],
   "source": [
    "r = lam / mu\n",
    "print(r)"
   ]
  },
  {
   "cell_type": "code",
   "execution_count": 134,
   "metadata": {},
   "outputs": [
    {
     "name": "stdout",
     "output_type": "stream",
     "text": [
      "1.4201868881004411\n"
     ]
    }
   ],
   "source": [
    "beta = newton(lambda beta: approx(0.10, beta), 1)\n",
    "print(beta)"
   ]
  },
  {
   "cell_type": "code",
   "execution_count": 135,
   "metadata": {},
   "outputs": [
    {
     "name": "stdout",
     "output_type": "stream",
     "text": [
      "22.464555358728653\n"
     ]
    }
   ],
   "source": [
    "c_approx = r + beta * sqrt(r)\n",
    "print(c_approx)"
   ]
  },
  {
   "cell_type": "markdown",
   "metadata": {},
   "source": [
    "## 9 (b)"
   ]
  },
  {
   "cell_type": "code",
   "execution_count": 136,
   "metadata": {},
   "outputs": [
    {
     "name": "stdout",
     "output_type": "stream",
     "text": [
      "13.333333333333336 0.5\n"
     ]
    }
   ],
   "source": [
    "lam = 500 / 60 * 1.6\n",
    "mu = 1 / 2\n",
    "print(lam, mu)"
   ]
  },
  {
   "cell_type": "code",
   "execution_count": 137,
   "metadata": {},
   "outputs": [
    {
     "name": "stdout",
     "output_type": "stream",
     "text": [
      "26.66666666666667\n"
     ]
    }
   ],
   "source": [
    "r = lam / mu\n",
    "print(r)"
   ]
  },
  {
   "cell_type": "code",
   "execution_count": 138,
   "metadata": {},
   "outputs": [
    {
     "name": "stdout",
     "output_type": "stream",
     "text": [
      "34.00048022148687\n"
     ]
    }
   ],
   "source": [
    "c_approx = r + beta * sqrt(r)\n",
    "print(c_approx)"
   ]
  },
  {
   "cell_type": "markdown",
   "metadata": {},
   "source": [
    "## 9 (c)"
   ]
  },
  {
   "cell_type": "code",
   "execution_count": 139,
   "metadata": {},
   "outputs": [
    {
     "name": "stdout",
     "output_type": "stream",
     "text": [
      "8.333333333333334 0.3333333333333333\n"
     ]
    }
   ],
   "source": [
    "lam = 500 / 60\n",
    "mu = 1 / 3\n",
    "print(lam, mu)"
   ]
  },
  {
   "cell_type": "code",
   "execution_count": 140,
   "metadata": {},
   "outputs": [
    {
     "name": "stdout",
     "output_type": "stream",
     "text": [
      "25.000000000000004\n"
     ]
    }
   ],
   "source": [
    "r = lam / mu\n",
    "print(r)"
   ]
  },
  {
   "cell_type": "code",
   "execution_count": 141,
   "metadata": {},
   "outputs": [
    {
     "name": "stdout",
     "output_type": "stream",
     "text": [
      "32.10093444050221\n"
     ]
    }
   ],
   "source": [
    "c_approx = r + beta * sqrt(r)\n",
    "print(c_approx)"
   ]
  },
  {
   "cell_type": "markdown",
   "metadata": {},
   "source": [
    "## 9 (d)"
   ]
  },
  {
   "cell_type": "code",
   "execution_count": 142,
   "metadata": {},
   "outputs": [
    {
     "name": "stdout",
     "output_type": "stream",
     "text": [
      "8.333333333333334 0.5\n"
     ]
    }
   ],
   "source": [
    "lam = 500 / 60\n",
    "mu = 1 / 2\n",
    "print(lam, mu)"
   ]
  },
  {
   "cell_type": "code",
   "execution_count": 143,
   "metadata": {},
   "outputs": [
    {
     "name": "stdout",
     "output_type": "stream",
     "text": [
      "16.666666666666668\n"
     ]
    }
   ],
   "source": [
    "r = lam / mu\n",
    "print(r)"
   ]
  },
  {
   "cell_type": "code",
   "execution_count": 144,
   "metadata": {},
   "outputs": [
    {
     "name": "stdout",
     "output_type": "stream",
     "text": [
      "0.6944444444444445\n"
     ]
    }
   ],
   "source": [
    "c = 24\n",
    "rho = r / c\n",
    "print(rho)"
   ]
  },
  {
   "cell_type": "code",
   "execution_count": 145,
   "metadata": {},
   "outputs": [
    {
     "name": "stdout",
     "output_type": "stream",
     "text": [
      "5.714528177635283e-08\n"
     ]
    }
   ],
   "source": [
    "n = r**c\n",
    "d = factorial(c)*(1-rho)\n",
    "s = sum([r**i/factorial(i) for i in range(c)])\n",
    "p_0 = 1 / (n/d + s)\n",
    "print(p_0)"
   ]
  },
  {
   "cell_type": "code",
   "execution_count": 146,
   "metadata": {},
   "outputs": [
    {
     "name": "stdout",
     "output_type": "stream",
     "text": [
      "0.06361426515341066\n"
     ]
    }
   ],
   "source": [
    "C_c_r = n*p_0/d\n",
    "print(C_c_r)"
   ]
  },
  {
   "cell_type": "code",
   "execution_count": 147,
   "metadata": {},
   "outputs": [
    {
     "name": "stdout",
     "output_type": "stream",
     "text": [
      "0.14457787534866065\n"
     ]
    }
   ],
   "source": [
    "L_q = n*rho/(d*(1-rho))*p_0\n",
    "print(L_q)"
   ]
  },
  {
   "cell_type": "code",
   "execution_count": 148,
   "metadata": {},
   "outputs": [
    {
     "name": "stdout",
     "output_type": "stream",
     "text": [
      "0.017349345041839277\n"
     ]
    }
   ],
   "source": [
    "W_q = L_q / lam\n",
    "print(W_q)"
   ]
  },
  {
   "cell_type": "code",
   "execution_count": 149,
   "metadata": {},
   "outputs": [
    {
     "name": "stdout",
     "output_type": "stream",
     "text": [
      "13.333333333333336 0.5\n"
     ]
    }
   ],
   "source": [
    "lam = 500 / 60 * 1.6\n",
    "mu = 1 / 2\n",
    "print(lam, mu)"
   ]
  },
  {
   "cell_type": "code",
   "execution_count": 150,
   "metadata": {},
   "outputs": [
    {
     "name": "stdout",
     "output_type": "stream",
     "text": [
      "26.66666666666667\n"
     ]
    }
   ],
   "source": [
    "r = lam / mu\n",
    "print(r)"
   ]
  },
  {
   "cell_type": "code",
   "execution_count": 151,
   "metadata": {},
   "outputs": [
    {
     "name": "stdout",
     "output_type": "stream",
     "text": [
      "0.7619047619047621\n"
     ]
    }
   ],
   "source": [
    "c = 35\n",
    "rho = r / c\n",
    "print(rho)"
   ]
  },
  {
   "cell_type": "code",
   "execution_count": 152,
   "metadata": {},
   "outputs": [
    {
     "name": "stdout",
     "output_type": "stream",
     "text": [
      "2.5787312412854715e-12\n"
     ]
    }
   ],
   "source": [
    "n = r**c\n",
    "d = factorial(c)*(1-rho)\n",
    "s = sum([r**i/factorial(i) for i in range(c)])\n",
    "p_0 = 1 / (n/d + s)\n",
    "print(p_0)"
   ]
  },
  {
   "cell_type": "code",
   "execution_count": 153,
   "metadata": {},
   "outputs": [
    {
     "name": "stdout",
     "output_type": "stream",
     "text": [
      "0.08498227504737443\n"
     ]
    }
   ],
   "source": [
    "C_c_r = n*p_0/d\n",
    "print(C_c_r)"
   ]
  },
  {
   "cell_type": "code",
   "execution_count": 154,
   "metadata": {},
   "outputs": [
    {
     "name": "stdout",
     "output_type": "stream",
     "text": [
      "0.2719432801515984\n"
     ]
    }
   ],
   "source": [
    "L_q = n*rho/(d *(1-rho))*p_0\n",
    "print(L_q)"
   ]
  },
  {
   "cell_type": "code",
   "execution_count": 155,
   "metadata": {},
   "outputs": [
    {
     "name": "stdout",
     "output_type": "stream",
     "text": [
      "0.020395746011369877\n"
     ]
    }
   ],
   "source": [
    "W_q = L_q / lam\n",
    "print(W_q)"
   ]
  },
  {
   "cell_type": "markdown",
   "metadata": {},
   "source": [
    "# Problem 10 (3.37)"
   ]
  },
  {
   "cell_type": "code",
   "execution_count": 156,
   "metadata": {},
   "outputs": [
    {
     "name": "stdout",
     "output_type": "stream",
     "text": [
      "1.7398362717905036\n"
     ]
    }
   ],
   "source": [
    "beta = newton(lambda beta: approx(0.05, beta), 1)\n",
    "print(beta)"
   ]
  },
  {
   "cell_type": "markdown",
   "metadata": {},
   "source": [
    "## 10 (a)"
   ]
  },
  {
   "cell_type": "code",
   "execution_count": 157,
   "metadata": {},
   "outputs": [
    {
     "name": "stdout",
     "output_type": "stream",
     "text": [
      "5.0 0.5\n"
     ]
    }
   ],
   "source": [
    "lam = 300 / 60\n",
    "mu = 1 / 2\n",
    "print(lam, mu)"
   ]
  },
  {
   "cell_type": "code",
   "execution_count": 158,
   "metadata": {},
   "outputs": [
    {
     "name": "stdout",
     "output_type": "stream",
     "text": [
      "10.0\n"
     ]
    }
   ],
   "source": [
    "r = lam / mu\n",
    "print(r)"
   ]
  },
  {
   "cell_type": "code",
   "execution_count": 159,
   "metadata": {},
   "outputs": [
    {
     "name": "stdout",
     "output_type": "stream",
     "text": [
      "15.50184537463375\n"
     ]
    }
   ],
   "source": [
    "c_approx = r + beta * sqrt(r)\n",
    "print(c_approx)"
   ]
  },
  {
   "cell_type": "markdown",
   "metadata": {},
   "source": [
    "## 10 (b)"
   ]
  },
  {
   "cell_type": "code",
   "execution_count": 160,
   "metadata": {},
   "outputs": [
    {
     "name": "stdout",
     "output_type": "stream",
     "text": [
      "10.0 0.5\n"
     ]
    }
   ],
   "source": [
    "lam = 300 / 60 * 2\n",
    "mu = 1 / 2\n",
    "print(lam, mu)"
   ]
  },
  {
   "cell_type": "code",
   "execution_count": 161,
   "metadata": {},
   "outputs": [
    {
     "name": "stdout",
     "output_type": "stream",
     "text": [
      "20.0\n"
     ]
    }
   ],
   "source": [
    "r = lam / mu\n",
    "print(r)"
   ]
  },
  {
   "cell_type": "code",
   "execution_count": 162,
   "metadata": {},
   "outputs": [
    {
     "name": "stdout",
     "output_type": "stream",
     "text": [
      "27.780784346886733\n"
     ]
    }
   ],
   "source": [
    "c_approx = r + beta * sqrt(r)\n",
    "print(c_approx)"
   ]
  },
  {
   "cell_type": "code",
   "execution_count": 169,
   "metadata": {},
   "outputs": [
    {
     "name": "stdout",
     "output_type": "stream",
     "text": [
      "0.8333333333333334 0.3333333333333333\n"
     ]
    }
   ],
   "source": [
    "c = 4\n",
    "lam = 5/6\n",
    "mu = 1/3\n",
    "print(lam, mu)"
   ]
  },
  {
   "cell_type": "code",
   "execution_count": 170,
   "metadata": {},
   "outputs": [
    {
     "name": "stdout",
     "output_type": "stream",
     "text": [
      "2.5000000000000004\n"
     ]
    }
   ],
   "source": [
    "r = lam / mu\n",
    "print(r)"
   ]
  },
  {
   "cell_type": "code",
   "execution_count": 171,
   "metadata": {},
   "outputs": [
    {
     "name": "stdout",
     "output_type": "stream",
     "text": [
      "0.6250000000000001\n"
     ]
    }
   ],
   "source": [
    "rho = r / c\n",
    "print(rho)"
   ]
  },
  {
   "cell_type": "markdown",
   "metadata": {},
   "source": [
    "## 7 (b)"
   ]
  },
  {
   "cell_type": "code",
   "execution_count": 173,
   "metadata": {},
   "outputs": [
    {
     "name": "stdout",
     "output_type": "stream",
     "text": [
      "0.07369498464687815\n"
     ]
    }
   ],
   "source": [
    "n = r**c\n",
    "d = factorial(c)*(1-rho)\n",
    "s = sum([r**i/factorial(i) for i in range(c)])\n",
    "p_0 = 1 / (n/d + s)\n",
    "print(p_0)"
   ]
  },
  {
   "cell_type": "code",
   "execution_count": 178,
   "metadata": {},
   "outputs": [
    {
     "name": "stdout",
     "output_type": "stream",
     "text": [
      "0.8000895598771749\n"
     ]
    }
   ],
   "source": [
    "p_n = sum([lam**i/factorial(i)/mu**i*p_0 for i in range(5)])\n",
    "print(p_n)"
   ]
  },
  {
   "cell_type": "code",
   "execution_count": 179,
   "metadata": {},
   "outputs": [
    {
     "data": {
      "text/plain": [
       "0.1999104401228251"
      ]
     },
     "execution_count": 179,
     "metadata": {},
     "output_type": "execute_result"
    }
   ],
   "source": [
    "1-p_n"
   ]
  },
  {
   "cell_type": "markdown",
   "metadata": {},
   "source": [
    "## 7 (c)"
   ]
  },
  {
   "cell_type": "code",
   "execution_count": 175,
   "metadata": {},
   "outputs": [
    {
     "name": "stdout",
     "output_type": "stream",
     "text": [
      "0.5330945069942005\n"
     ]
    }
   ],
   "source": [
    "L_q = n*rho/(d *(1-rho))*p_0\n",
    "print(L_q)"
   ]
  },
  {
   "cell_type": "code",
   "execution_count": null,
   "metadata": {},
   "outputs": [],
   "source": [
    " "
   ]
  }
 ],
 "metadata": {
  "kernelspec": {
   "display_name": "Python 3",
   "language": "python",
   "name": "python3"
  },
  "language_info": {
   "codemirror_mode": {
    "name": "ipython",
    "version": 3
   },
   "file_extension": ".py",
   "mimetype": "text/x-python",
   "name": "python",
   "nbconvert_exporter": "python",
   "pygments_lexer": "ipython3",
   "version": "3.7.4"
  }
 },
 "nbformat": 4,
 "nbformat_minor": 4
}
