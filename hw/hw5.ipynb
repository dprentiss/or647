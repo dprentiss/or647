{
 "cells": [
  {
   "cell_type": "code",
   "execution_count": 1,
   "metadata": {},
   "outputs": [],
   "source": [
    "import numpy as np\n",
    "import matplotlib.pyplot as plt\n",
    "from scipy.stats import erlang\n",
    "from fractions import Fraction"
   ]
  },
  {
   "cell_type": "markdown",
   "metadata": {},
   "source": [
    "# 1 Problem 5.23"
   ]
  },
  {
   "cell_type": "code",
   "execution_count": 2,
   "metadata": {},
   "outputs": [],
   "source": [
    "M = 35\n",
    "K = 7"
   ]
  },
  {
   "cell_type": "code",
   "execution_count": 3,
   "metadata": {},
   "outputs": [],
   "source": [
    "#np.set_printoptions(formatter={'all':lambda x: str(Fraction(x).limit_denominator())})"
   ]
  },
  {
   "cell_type": "code",
   "execution_count": 4,
   "metadata": {},
   "outputs": [
    {
     "name": "stdout",
     "output_type": "stream",
     "text": [
      "[5. 5. 5. 5. 5. 5. 5.]\n",
      "[ 85  85 120 120  70  20  20]\n"
     ]
    }
   ],
   "source": [
    "mu = np.array([85,85,120,120,70,20,20])\n",
    "L = np.empty(len(mu))\n",
    "L.fill(M/K)\n",
    "print(L)\n",
    "print(mu)"
   ]
  },
  {
   "cell_type": "code",
   "execution_count": 5,
   "metadata": {},
   "outputs": [
    {
     "name": "stdout",
     "output_type": "stream",
     "text": [
      "[[0.33333333 0.25       0.         0.25       0.         0.16666667\n",
      "  0.        ]\n",
      " [0.33333333 0.25       0.         0.25       0.16666667 0.\n",
      "  0.        ]\n",
      " [0.         0.         0.33333333 0.33333333 0.33333333 0.\n",
      "  0.        ]\n",
      " [0.33333333 0.         0.33333333 0.         0.33333333 0.\n",
      "  0.        ]\n",
      " [0.         0.         0.         0.83333333 0.         0.\n",
      "  0.16666667]\n",
      " [0.16666667 0.16666667 0.16666667 0.16666667 0.16666667 0.16666667\n",
      "  0.        ]\n",
      " [0.         0.16666667 0.16666667 0.16666667 0.16666667 0.16666667\n",
      "  0.16666667]]\n"
     ]
    }
   ],
   "source": [
    "r_list = [[1/3,1/4,0,1/4,0,1/6,0],\n",
    "          [1/3,1/4,0,1/4,1/6,0,0],\n",
    "          [0,0,1/3,1/3,1/3,0,0],\n",
    "          [1/3,0,1/3,0,1/3,0,0],\n",
    "          [0,0,0,5/6,0,0,1/6],\n",
    "          [1/6,1/6,1/6,1/6,1/6,1/6,0],\n",
    "          [0,1/6,1/6,1/6,1/6,1/6,1/6]]\n",
    "R = np.array(r_list)\n",
    "print(R)"
   ]
  },
  {
   "cell_type": "code",
   "execution_count": 6,
   "metadata": {},
   "outputs": [],
   "source": [
    "#M=1\n",
    "#K=3\n",
    "#mu = np.array([2,1,3])\n",
    "#L = np.empty(len(mu))\n",
    "#L.fill(M/K)\n",
    "#print(L)\n",
    "#print(mu)\n",
    "#r_list = [[0, 3/4, 1/4],[2/3, 0, 1/3],[1, 0 , 0]]\n",
    "#R = np.array(r_list)\n",
    "#print(R)"
   ]
  },
  {
   "cell_type": "code",
   "execution_count": 7,
   "metadata": {},
   "outputs": [
    {
     "name": "stdout",
     "output_type": "stream",
     "text": [
      "[-0.45184706 -0.19246298 -0.37602045 -0.65788448 -0.40809761 -0.10669332\n",
      " -0.08161952]\n"
     ]
    }
   ],
   "source": [
    "A = R.transpose()-np.eye(R.shape[0]) #solve for (R.T-I)v=0\n",
    "# find the nullspace with eigenvectors\n",
    "e_vals, e_vecs = np.linalg.eig(np.dot(A.T,A))\n",
    "vec = e_vecs[:, np.argmin(e_vals)]\n",
    "#v = vec / vec[1]\n",
    "v = vec\n",
    "#print(f'{[round(i,3) for i in v]}')\n",
    "print(v)"
   ]
  },
  {
   "cell_type": "code",
   "execution_count": 8,
   "metadata": {},
   "outputs": [
    {
     "name": "stdout",
     "output_type": "stream",
     "text": [
      "[ 5.62866706  0.57927309  1.02254541  7.00480267 13.10119789  5.76008552\n",
      "  1.90342837] 35.0\n"
     ]
    }
   ],
   "source": [
    "M = 35\n",
    "N = 50000\n",
    "lam = 0\n",
    "L = np.empty(len(mu))\n",
    "L.fill(M/K)\n",
    "#Bard–Schweitzer method\n",
    "for i in range(N):\n",
    "    #print(lam,L)\n",
    "    lam = M/((((M-1)/M)*L+1)/mu*v).sum()\n",
    "    L = v*lam*(((M-1)/M)*L+1)/mu\n",
    "#print(f'{[round(i,3) for i in L]}',L.sum())\n",
    "print(L, L.sum())"
   ]
  },
  {
   "cell_type": "code",
   "execution_count": 9,
   "metadata": {},
   "outputs": [
    {
     "name": "stdout",
     "output_type": "stream",
     "text": [
      "[ 5.5136788   0.57674531  1.01661964  6.83165873 12.53424694  5.64004393\n",
      "  1.88700664] 33.99999999999999\n"
     ]
    }
   ],
   "source": [
    "M= 34\n",
    "N = 50000\n",
    "lam = 0\n",
    "L = np.empty(len(mu))\n",
    "L.fill(M/K)\n",
    "#Bard–Schweitzer method\n",
    "for i in range(N):\n",
    "    #print(lam,L)\n",
    "    lam = M/((((M-1)/M)*L+1)/mu*v).sum()\n",
    "    L = v*lam*(((M-1)/M)*L+1)/mu\n",
    "#print(f'{[round(i,3) for i in L]}',L.sum())\n",
    "print(L,L.sum())"
   ]
  },
  {
   "cell_type": "code",
   "execution_count": 10,
   "metadata": {},
   "outputs": [
    {
     "name": "stdout",
     "output_type": "stream",
     "text": [
      "[0.077, 0.019, 0.017, 0.065, 0.193, 0.332, 0.144]\n"
     ]
    }
   ],
   "source": [
    "W = (1+L) / mu \n",
    "print(f'{[round(i,3) for i in W]}')"
   ]
  },
  {
   "cell_type": "markdown",
   "metadata": {},
   "source": [
    "# 2 Problem 5.24"
   ]
  },
  {
   "cell_type": "code",
   "execution_count": 15,
   "metadata": {
    "collapsed": true,
    "jupyter": {
     "outputs_hidden": true
    }
   },
   "outputs": [
    {
     "name": "stdout",
     "output_type": "stream",
     "text": [
      "[ 6.00029422  0.59198773  1.05732366  7.32638494 11.88587822  6.1316778\n",
      "  2.00645344] 35.00000000000001\n",
      "[0.0807347  0.01870013 0.01709526 0.06770476 0.17707055 0.34939866\n",
      " 0.14945628]\n",
      "[[1.00000000e+00 8.74366297e-01 7.64516421e-01 6.68467392e-01\n",
      "  5.84485358e-01 5.11054298e-01 4.46848655e-01 3.90709403e-01\n",
      "  3.41623134e-01 2.98703755e-01 2.61176496e-01 2.28363926e-01\n",
      "  1.99673720e-01 1.74587971e-01 1.52653838e-01 1.33475371e-01\n",
      "  1.16706366e-01 1.02044113e-01 8.92239332e-02 7.80144000e-02\n",
      "  6.82131621e-02 5.96432899e-02 5.21500825e-02 4.55982746e-02\n",
      "  3.98695945e-02 3.48606297e-02 3.04809597e-02 2.66515239e-02\n",
      "  2.33031942e-02 2.03755276e-02 1.78156747e-02 1.55774255e-02\n",
      "  1.36203758e-02 1.19091976e-02 1.04130010e-02]\n",
      " [1.00000000e+00 3.72433865e-01 1.38706984e-01 5.16591780e-02\n",
      "  1.92396273e-02 7.16548875e-03 2.66867067e-03 9.93903331e-04\n",
      "  3.70163259e-04 1.37861333e-04 5.13442290e-05 1.91223297e-05\n",
      "  7.12180314e-06 2.65240067e-06 9.87843831e-07 3.67906496e-07\n",
      "  1.37020838e-07 5.10312003e-08 1.90057471e-08 7.07838386e-09\n",
      "  2.63622986e-09 9.81821273e-10 3.65663491e-10 1.36185467e-10\n",
      "  5.07200799e-11 1.88898754e-11 7.03522929e-12 2.62015763e-12\n",
      "  9.75835434e-13 3.63434162e-13 1.35355190e-13 5.04108563e-14\n",
      "  1.87747101e-14 6.99233782e-15 2.60418340e-15]\n",
      " [1.00000000e+00 5.15407924e-01 2.65645328e-01 1.36915707e-01\n",
      "  7.05674402e-02 3.63710179e-02 1.87459108e-02 9.66179097e-03\n",
      "  4.97976362e-03 2.56660963e-03 1.32285094e-03 6.81807857e-04\n",
      "  3.51409172e-04 1.81119072e-04 9.33502047e-05 4.81134352e-05\n",
      "  2.47980457e-05 1.27811093e-05 6.58748499e-06 3.39524196e-06\n",
      "  1.74993461e-06 9.01930164e-07 4.64861953e-07 2.39593534e-07\n",
      "  1.23488406e-07 6.36469030e-08 3.28041181e-08 1.69075024e-08\n",
      "  8.71426072e-09 4.49139902e-09 2.31490265e-09 1.19311917e-09\n",
      "  6.14943072e-10 3.16946532e-10 1.63356754e-10]\n",
      " [1.00000000e+00 9.01756471e-01 8.13164733e-01 7.33276560e-01\n",
      "  6.61236883e-01 5.96274638e-01 5.37694513e-01 4.84869507e-01\n",
      "  4.37234215e-01 3.94278783e-01 3.55543444e-01 3.20613601e-01\n",
      "  2.89115390e-01 2.60711673e-01 2.35098439e-01 2.12001538e-01\n",
      "  1.91173759e-01 1.72392174e-01 1.55455759e-01 1.40183236e-01\n",
      "  1.26411140e-01 1.13992064e-01 1.02793081e-01 9.26943262e-02\n",
      "  8.35877085e-02 7.53757570e-02 6.79705766e-02 6.12929073e-02\n",
      "  5.52712758e-02 4.98412306e-02 4.49446522e-02 4.05291310e-02\n",
      "  3.65474061e-02 3.29568600e-02 2.97190617e-02]\n",
      " [1.00000000e+00 9.58929961e-01 9.19546670e-01 8.81780853e-01\n",
      "  8.45566079e-01 8.10838647e-01 7.77537472e-01 7.45603978e-01\n",
      "  7.14981993e-01 6.85617655e-01 6.57459311e-01 6.30457432e-01\n",
      "  6.04564520e-01 5.79735032e-01 5.55925292e-01 5.33093418e-01\n",
      "  5.11199251e-01 4.90204278e-01 4.70071569e-01 4.50765711e-01\n",
      "  4.32252746e-01 4.14500109e-01 3.97476573e-01 3.81152195e-01\n",
      "  3.65498259e-01 3.50487232e-01 3.36092707e-01 3.22289367e-01\n",
      "  3.09052930e-01 2.96360114e-01 2.84188593e-01 2.72516956e-01\n",
      "  2.61324674e-01 2.50592060e-01 2.40300234e-01]\n",
      " [1.00000000e+00 8.77461547e-01 7.69938766e-01 6.75591661e-01\n",
      "  5.92805704e-01 5.20164210e-01 4.56424093e-01 4.00494590e-01\n",
      "  3.51418603e-01 3.08356311e-01 2.70570806e-01 2.37415478e-01\n",
      "  2.08322952e-01 1.82795380e-01 1.60395917e-01 1.40741249e-01\n",
      "  1.23495034e-01 1.08362144e-01 9.50836144e-02 8.34322154e-02\n",
      "  7.32085608e-02 6.42376970e-02 5.63661090e-02 4.94590932e-02\n",
      "  4.33984524e-02 3.80804732e-02 3.34141509e-02 2.93196326e-02\n",
      "  2.57268501e-02 2.25743217e-02 1.98080993e-02 1.73808454e-02\n",
      "  1.52510235e-02 1.33821867e-02 1.17423542e-02]\n",
      " [1.00000000e+00 6.71250973e-01 4.50577868e-01 3.02450832e-01\n",
      "  2.03020415e-01 1.36277651e-01 9.14765060e-02 6.14036937e-02\n",
      "  4.12172891e-02 2.76671454e-02 1.85715983e-02 1.24662034e-02\n",
      "  8.36795116e-03 5.61699536e-03 3.77041360e-03 2.53089379e-03\n",
      "  1.69886492e-03 1.14036473e-03 7.65470935e-04 5.13823110e-04\n",
      "  3.44904262e-04 2.31517321e-04 1.55406227e-04 1.04316581e-04\n",
      "  7.00226066e-05 4.70027428e-05 3.15506368e-05 2.11783957e-05\n",
      "  1.42160187e-05 9.54251637e-06 6.40542340e-06 4.29964669e-06\n",
      "  2.88614202e-06 1.93732564e-06 1.30043172e-06]]\n"
     ]
    }
   ],
   "source": [
    "M = 35\n",
    "K = 7\n",
    "L = np.zeros(K)\n",
    "c = np.ones(K)\n",
    "p = np.zeros([K,M])\n",
    "#print(L,c,p)\n",
    "for i in range(K):\n",
    "    p[i][0]=1\n",
    "#print(p)\n",
    "for m in range(1,M+1):\n",
    "    term = np.array([sum([c[i]-1-j*p[i][j] for j in range(int(c[i])-2+1)]) for i in range(K)])\n",
    "    #print(term)\n",
    "    W = 1/c/mu*(1+L+term)\n",
    "    lam = v*(m/(v*W).sum())\n",
    "    L = lam*W\n",
    "    for i in range(K):\n",
    "        for j in range(1,m):\n",
    "            p[i][j]=lam[i]*p[i][j-1]/mu[i]/(j if j<=c[i] else c[i])\n",
    "    #print(p)\n",
    "#print(f'{[round(i,3) for i in L]}',L.sum())\n",
    "print(L,L.sum())\n",
    "print(W)\n",
    "print(p)"
   ]
  },
  {
   "cell_type": "code",
   "execution_count": 38,
   "metadata": {},
   "outputs": [
    {
     "data": {
      "text/plain": [
       "5.171607037229523"
      ]
     },
     "execution_count": 38,
     "metadata": {},
     "output_type": "execute_result"
    }
   ],
   "source": [
    "p[:,1].sum()"
   ]
  },
  {
   "cell_type": "code",
   "execution_count": 44,
   "metadata": {},
   "outputs": [
    {
     "data": {
      "text/plain": [
       "array([[1.00000000e+00, 1.00000000e+00, 1.00000000e+00, 1.00000000e+00,\n",
       "        1.00000000e+00, 1.00000000e+00, 1.00000000e+00],\n",
       "       [8.74366297e-01, 3.72433865e-01, 5.15407924e-01, 9.01756471e-01,\n",
       "        9.58929961e-01, 8.77461547e-01, 6.71250973e-01],\n",
       "       [7.64516421e-01, 1.38706984e-01, 2.65645328e-01, 8.13164733e-01,\n",
       "        9.19546670e-01, 7.69938766e-01, 4.50577868e-01],\n",
       "       [6.68467392e-01, 5.16591780e-02, 1.36915707e-01, 7.33276560e-01,\n",
       "        8.81780853e-01, 6.75591661e-01, 3.02450832e-01],\n",
       "       [5.84485358e-01, 1.92396273e-02, 7.05674402e-02, 6.61236883e-01,\n",
       "        8.45566079e-01, 5.92805704e-01, 2.03020415e-01],\n",
       "       [5.11054298e-01, 7.16548875e-03, 3.63710179e-02, 5.96274638e-01,\n",
       "        8.10838647e-01, 5.20164210e-01, 1.36277651e-01],\n",
       "       [4.46848655e-01, 2.66867067e-03, 1.87459108e-02, 5.37694513e-01,\n",
       "        7.77537472e-01, 4.56424093e-01, 9.14765060e-02],\n",
       "       [3.90709403e-01, 9.93903331e-04, 9.66179097e-03, 4.84869507e-01,\n",
       "        7.45603978e-01, 4.00494590e-01, 6.14036937e-02],\n",
       "       [3.41623134e-01, 3.70163259e-04, 4.97976362e-03, 4.37234215e-01,\n",
       "        7.14981993e-01, 3.51418603e-01, 4.12172891e-02],\n",
       "       [2.98703755e-01, 1.37861333e-04, 2.56660963e-03, 3.94278783e-01,\n",
       "        6.85617655e-01, 3.08356311e-01, 2.76671454e-02],\n",
       "       [2.61176496e-01, 5.13442290e-05, 1.32285094e-03, 3.55543444e-01,\n",
       "        6.57459311e-01, 2.70570806e-01, 1.85715983e-02],\n",
       "       [2.28363926e-01, 1.91223297e-05, 6.81807857e-04, 3.20613601e-01,\n",
       "        6.30457432e-01, 2.37415478e-01, 1.24662034e-02],\n",
       "       [1.99673720e-01, 7.12180314e-06, 3.51409172e-04, 2.89115390e-01,\n",
       "        6.04564520e-01, 2.08322952e-01, 8.36795116e-03],\n",
       "       [1.74587971e-01, 2.65240067e-06, 1.81119072e-04, 2.60711673e-01,\n",
       "        5.79735032e-01, 1.82795380e-01, 5.61699536e-03],\n",
       "       [1.52653838e-01, 9.87843831e-07, 9.33502047e-05, 2.35098439e-01,\n",
       "        5.55925292e-01, 1.60395917e-01, 3.77041360e-03],\n",
       "       [1.33475371e-01, 3.67906496e-07, 4.81134352e-05, 2.12001538e-01,\n",
       "        5.33093418e-01, 1.40741249e-01, 2.53089379e-03],\n",
       "       [1.16706366e-01, 1.37020838e-07, 2.47980457e-05, 1.91173759e-01,\n",
       "        5.11199251e-01, 1.23495034e-01, 1.69886492e-03],\n",
       "       [1.02044113e-01, 5.10312003e-08, 1.27811093e-05, 1.72392174e-01,\n",
       "        4.90204278e-01, 1.08362144e-01, 1.14036473e-03],\n",
       "       [8.92239332e-02, 1.90057471e-08, 6.58748499e-06, 1.55455759e-01,\n",
       "        4.70071569e-01, 9.50836144e-02, 7.65470935e-04],\n",
       "       [7.80144000e-02, 7.07838386e-09, 3.39524196e-06, 1.40183236e-01,\n",
       "        4.50765711e-01, 8.34322154e-02, 5.13823110e-04],\n",
       "       [6.82131621e-02, 2.63622986e-09, 1.74993461e-06, 1.26411140e-01,\n",
       "        4.32252746e-01, 7.32085608e-02, 3.44904262e-04],\n",
       "       [5.96432899e-02, 9.81821273e-10, 9.01930164e-07, 1.13992064e-01,\n",
       "        4.14500109e-01, 6.42376970e-02, 2.31517321e-04],\n",
       "       [5.21500825e-02, 3.65663491e-10, 4.64861953e-07, 1.02793081e-01,\n",
       "        3.97476573e-01, 5.63661090e-02, 1.55406227e-04],\n",
       "       [4.55982746e-02, 1.36185467e-10, 2.39593534e-07, 9.26943262e-02,\n",
       "        3.81152195e-01, 4.94590932e-02, 1.04316581e-04],\n",
       "       [3.98695945e-02, 5.07200799e-11, 1.23488406e-07, 8.35877085e-02,\n",
       "        3.65498259e-01, 4.33984524e-02, 7.00226066e-05],\n",
       "       [3.48606297e-02, 1.88898754e-11, 6.36469030e-08, 7.53757570e-02,\n",
       "        3.50487232e-01, 3.80804732e-02, 4.70027428e-05],\n",
       "       [3.04809597e-02, 7.03522929e-12, 3.28041181e-08, 6.79705766e-02,\n",
       "        3.36092707e-01, 3.34141509e-02, 3.15506368e-05],\n",
       "       [2.66515239e-02, 2.62015763e-12, 1.69075024e-08, 6.12929073e-02,\n",
       "        3.22289367e-01, 2.93196326e-02, 2.11783957e-05],\n",
       "       [2.33031942e-02, 9.75835434e-13, 8.71426072e-09, 5.52712758e-02,\n",
       "        3.09052930e-01, 2.57268501e-02, 1.42160187e-05],\n",
       "       [2.03755276e-02, 3.63434162e-13, 4.49139902e-09, 4.98412306e-02,\n",
       "        2.96360114e-01, 2.25743217e-02, 9.54251637e-06],\n",
       "       [1.78156747e-02, 1.35355190e-13, 2.31490265e-09, 4.49446522e-02,\n",
       "        2.84188593e-01, 1.98080993e-02, 6.40542340e-06],\n",
       "       [1.55774255e-02, 5.04108563e-14, 1.19311917e-09, 4.05291310e-02,\n",
       "        2.72516956e-01, 1.73808454e-02, 4.29964669e-06],\n",
       "       [1.36203758e-02, 1.87747101e-14, 6.14943072e-10, 3.65474061e-02,\n",
       "        2.61324674e-01, 1.52510235e-02, 2.88614202e-06],\n",
       "       [1.19091976e-02, 6.99233782e-15, 3.16946532e-10, 3.29568600e-02,\n",
       "        2.50592060e-01, 1.33821867e-02, 1.93732564e-06],\n",
       "       [1.04130010e-02, 2.60418340e-15, 1.63356754e-10, 2.97190617e-02,\n",
       "        2.40300234e-01, 1.17423542e-02, 1.30043172e-06]])"
      ]
     },
     "execution_count": 44,
     "metadata": {},
     "output_type": "execute_result"
    }
   ],
   "source": [
    "p.T"
   ]
  },
  {
   "cell_type": "code",
   "execution_count": 13,
   "metadata": {},
   "outputs": [
    {
     "name": "stdout",
     "output_type": "stream",
     "text": [
      "[ 5.86244911  0.58951101  1.05143074  7.12457152 11.39493884  5.98797323\n",
      "  1.98912555] 34.00000000000001\n",
      "[0.07907982 0.01866907 0.01704305 0.06600657 0.17018686 0.3420745\n",
      " 0.14854096]\n"
     ]
    }
   ],
   "source": [
    "M = 34\n",
    "K = 7\n",
    "L = np.zeros(K)\n",
    "c = np.ones(K)\n",
    "p = np.zeros([K,M])\n",
    "#print(L,c,p)\n",
    "for i in range(K):\n",
    "    p[i][0]=1\n",
    "#print(p)\n",
    "for m in range(1,M+1):\n",
    "    term = np.array([sum([c[i]-1-j*p[i][j] for j in range(int(c[i])-2+1)]) for i in range(K)])\n",
    "    #print(term)\n",
    "    W = 1/c/mu*(1+L+term)\n",
    "    lam = v*(m/(v*W).sum())\n",
    "    L = lam*W\n",
    "    for i in range(K):\n",
    "        for j in range(1,m):\n",
    "            p[i][j]=lam[i]*p[i][j-1]/mu[i]/(j if j<=c[i] else c[i])\n",
    "    #print(p)\n",
    "#print(f'{[round(i,3) for i in L]}',L.sum())\n",
    "print(L,L.sum())\n",
    "print(W)\n",
    "#print(p)"
   ]
  },
  {
   "cell_type": "code",
   "execution_count": 14,
   "metadata": {},
   "outputs": [
    {
     "name": "stdout",
     "output_type": "stream",
     "text": [
      "[0.081, 0.019, 0.017, 0.068, 0.177, 0.349, 0.149]\n"
     ]
    }
   ],
   "source": [
    "W = (1+L) / mu \n",
    "print(f'{[round(i,3) for i in W]}')"
   ]
  },
  {
   "cell_type": "markdown",
   "metadata": {},
   "source": [
    "# 3 Problem 4.4"
   ]
  },
  {
   "cell_type": "markdown",
   "metadata": {},
   "source": [
    "## 3 (a)"
   ]
  },
  {
   "cell_type": "code",
   "execution_count": 13,
   "metadata": {},
   "outputs": [
    {
     "name": "stdout",
     "output_type": "stream",
     "text": [
      "1/10 5 2/3 3/4\n"
     ]
    }
   ],
   "source": [
    "lam = Fraction(6,60)\n",
    "X_mean = Fraction(5)\n",
    "mu = Fraction(2,3)\n",
    "rho = lam*X_mean/mu\n",
    "print(lam, X_mean, mu, rho)"
   ]
  },
  {
   "cell_type": "code",
   "execution_count": 14,
   "metadata": {},
   "outputs": [
    {
     "name": "stdout",
     "output_type": "stream",
     "text": [
      "39/4\n"
     ]
    }
   ],
   "source": [
    "L = rho+(lam/mu*30)/2/(1-rho)\n",
    "print(L)"
   ]
  },
  {
   "cell_type": "code",
   "execution_count": 15,
   "metadata": {},
   "outputs": [
    {
     "data": {
      "text/plain": [
       "9.75"
      ]
     },
     "execution_count": 15,
     "metadata": {},
     "output_type": "execute_result"
    }
   ],
   "source": [
    "L.numerator/L.denominator"
   ]
  },
  {
   "cell_type": "code",
   "execution_count": 16,
   "metadata": {},
   "outputs": [
    {
     "name": "stdout",
     "output_type": "stream",
     "text": [
      "39/2\n"
     ]
    }
   ],
   "source": [
    "W = L / lam / X_mean\n",
    "print(W)"
   ]
  },
  {
   "cell_type": "code",
   "execution_count": 17,
   "metadata": {},
   "outputs": [
    {
     "data": {
      "text/plain": [
       "19.5"
      ]
     },
     "execution_count": 17,
     "metadata": {},
     "output_type": "execute_result"
    }
   ],
   "source": [
    "W.numerator/W.denominator"
   ]
  },
  {
   "cell_type": "markdown",
   "metadata": {},
   "source": [
    "## 3 (b)"
   ]
  },
  {
   "cell_type": "code",
   "execution_count": 18,
   "metadata": {},
   "outputs": [
    {
     "name": "stdout",
     "output_type": "stream",
     "text": [
      "1/2 2/3 3/4\n"
     ]
    }
   ],
   "source": [
    "lam = Fraction(1,2)\n",
    "mu = Fraction(2,3)\n",
    "rho = lam / mu\n",
    "print(lam, mu, rho)"
   ]
  },
  {
   "cell_type": "code",
   "execution_count": 19,
   "metadata": {},
   "outputs": [
    {
     "name": "stdout",
     "output_type": "stream",
     "text": [
      "3\n"
     ]
    }
   ],
   "source": [
    "L = rho/(1-rho)\n",
    "print(L)"
   ]
  },
  {
   "cell_type": "code",
   "execution_count": 20,
   "metadata": {},
   "outputs": [
    {
     "name": "stdout",
     "output_type": "stream",
     "text": [
      "6\n"
     ]
    }
   ],
   "source": [
    "W = L/lam\n",
    "print(W)"
   ]
  },
  {
   "cell_type": "code",
   "execution_count": 21,
   "metadata": {},
   "outputs": [
    {
     "data": {
      "text/plain": [
       "Fraction(6, 1)"
      ]
     },
     "execution_count": 21,
     "metadata": {},
     "output_type": "execute_result"
    }
   ],
   "source": [
    "1/(mu-lam)"
   ]
  },
  {
   "cell_type": "markdown",
   "metadata": {},
   "source": [
    "# 4 Problem 4.22"
   ]
  },
  {
   "cell_type": "code",
   "execution_count": 22,
   "metadata": {},
   "outputs": [],
   "source": [
    "mu_samp = np.array([4.00, 1.44, 4.44, 1.74, 1.16, 4.20, 3.59, 2.14, 3.54, 2.56, 5.53, 2.02, 3.06, 1.66,\n",
    "3.23, 4.84, 7.99, 3.07, 1.24, 3.40, 5.01, 2.78, 1.62, 5.19, 5.09, 3.78, 1.52, 3.94, 1.96, 6.20,\n",
    "3.67, 3.37, 1.84, 1.60, 1.31, 5.64, 0.99, 3.06, 1.24, 3.11, 4.57, 0.90, 2.78, 1.64, 2.43, 5.26,\n",
    "2.11, 4.27, 3.36, 4.76])"
   ]
  },
  {
   "cell_type": "code",
   "execution_count": 23,
   "metadata": {},
   "outputs": [
    {
     "data": {
      "text/plain": [
       "3.1970000000000005"
      ]
     },
     "execution_count": 23,
     "metadata": {},
     "output_type": "execute_result"
    }
   ],
   "source": [
    "np.mean(mu_samp)"
   ]
  },
  {
   "cell_type": "code",
   "execution_count": 24,
   "metadata": {},
   "outputs": [
    {
     "data": {
      "text/plain": [
       "2.463673"
      ]
     },
     "execution_count": 24,
     "metadata": {},
     "output_type": "execute_result"
    }
   ],
   "source": [
    "np.var(mu_samp)"
   ]
  },
  {
   "cell_type": "code",
   "execution_count": 25,
   "metadata": {},
   "outputs": [
    {
     "data": {
      "text/plain": [
       "3.2"
      ]
     },
     "execution_count": 25,
     "metadata": {},
     "output_type": "execute_result"
    }
   ],
   "source": [
    "4/1.25"
   ]
  },
  {
   "cell_type": "code",
   "execution_count": 26,
   "metadata": {},
   "outputs": [
    {
     "data": {
      "text/plain": [
       "2.56"
      ]
     },
     "execution_count": 26,
     "metadata": {},
     "output_type": "execute_result"
    }
   ],
   "source": [
    "4/1.25/1.25"
   ]
  },
  {
   "cell_type": "code",
   "execution_count": 27,
   "metadata": {},
   "outputs": [
    {
     "data": {
      "text/plain": [
       "[<matplotlib.lines.Line2D at 0x7f1c545ef910>]"
      ]
     },
     "execution_count": 27,
     "metadata": {},
     "output_type": "execute_result"
    },
    {
     "data": {
      "image/png": "[encoded data removed]",
      "text/plain": [
       "<Figure size 432x288 with 1 Axes>"
      ]
     },
     "metadata": {
      "needs_background": "light"
     },
     "output_type": "display_data"
    }
   ],
   "source": [
    "plt.hist(mu_samp,10)\n",
    "x = np.linspace(0,9)\n",
    "plt.plot(x, 50*erlang.pdf(x=x, a=4, scale=1/1.25))"
   ]
  },
  {
   "cell_type": "code",
   "execution_count": 28,
   "metadata": {},
   "outputs": [
    {
     "data": {
      "text/plain": [
       "array([0.        , 0.        , 0.        , 0.        , 0.        ,\n",
       "       0.00024555, 0.00339524, 0.01175028, 0.02559591, 0.0440869 ,\n",
       "       0.06585723, 0.08940206, 0.11330287, 0.13634714, 0.15757889,\n",
       "       0.17630597, 0.19208168, 0.20467298, 0.21402301, 0.22021313,\n",
       "       0.22342747, 0.22392144, 0.22199508, 0.21797132, 0.21217875,\n",
       "       0.20493865, 0.19655551, 0.18731068, 0.17745837, 0.16722372,\n",
       "       0.15680225, 0.14636055, 0.13603769, 0.12594719, 0.11617932,\n",
       "       0.10680357, 0.09787112, 0.08941731, 0.08146395, 0.07402149,\n",
       "       0.06709099, 0.06066591, 0.05473367, 0.04927705, 0.04427537,\n",
       "       0.03970547, 0.03554264, 0.03176124, 0.02833535, 0.0252392 ])"
      ]
     },
     "execution_count": 28,
     "metadata": {},
     "output_type": "execute_result"
    }
   ],
   "source": [
    "erlang.pdf(x, 4, 1/1.25)"
   ]
  },
  {
   "cell_type": "code",
   "execution_count": 29,
   "metadata": {},
   "outputs": [
    {
     "name": "stdout",
     "output_type": "stream",
     "text": [
      "4 5/16 3/10 24/25\n"
     ]
    }
   ],
   "source": [
    "k = Fraction(4)\n",
    "mu = Fraction(5,16)\n",
    "lam = Fraction(18,60)\n",
    "rho = lam / mu\n",
    "print(k, mu, lam, rho)"
   ]
  },
  {
   "cell_type": "code",
   "execution_count": 30,
   "metadata": {},
   "outputs": [
    {
     "name": "stdout",
     "output_type": "stream",
     "text": [
      "72/5 48\n"
     ]
    }
   ],
   "source": [
    "L_q = (1+1/k)/2*rho*rho/(1-rho)\n",
    "W_q = L_q / lam\n",
    "print(L_q, W_q)"
   ]
  }
 ],
 "metadata": {
  "kernelspec": {
   "display_name": "Python 3",
   "language": "python",
   "name": "python3"
  },
  "language_info": {
   "codemirror_mode": {
    "name": "ipython",
    "version": 3
   },
   "file_extension": ".py",
   "mimetype": "text/x-python",
   "name": "python",
   "nbconvert_exporter": "python",
   "pygments_lexer": "ipython3",
   "version": "3.7.4"
  }
 },
 "nbformat": 4,
 "nbformat_minor": 4
}
