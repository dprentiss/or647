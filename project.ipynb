{
 "cells": [
  {
   "cell_type": "code",
   "execution_count": 1,
   "metadata": {},
   "outputs": [],
   "source": [
    "import numpy as np\n",
    "import matplotlib.pyplot as plt"
   ]
  },
  {
   "cell_type": "code",
   "execution_count": 2,
   "metadata": {},
   "outputs": [],
   "source": [
    "N = 1000000\n",
    "num_cells = 16\n",
    "classes = ['A', 'B']\n",
    "lane = np.random.choice(classes, num_cells)\n",
    "samples = []\n",
    "dists = []\n",
    "for i in range(N):\n",
    "    #print(lane)\n",
    "    classIdx = i % len(classes)\n",
    "    #print(classIdx)\n",
    "    is_class = lane == classes[classIdx]\n",
    "    #print(is_class)\n",
    "    dist = np.where(is_class == False)\n",
    "    if len(dist[-1]) > 0:\n",
    "        dist = dist[-1][-1] + 1\n",
    "    else:\n",
    "        dist = num_cells\n",
    "    dists.append(dist)\n",
    "    num_leaving = np.count_nonzero(is_class)\n",
    "    samples.append(num_leaving)\n",
    "    #print(classIdx, num_leaving, dist)\n",
    "    lane = np.concatenate((np.full(num_cells-num_leaving, classes[1-classIdx]), np.random.choice(classes, num_leaving)))#only works for two classes\n",
    "#print(samples)"
   ]
  },
  {
   "cell_type": "code",
   "execution_count": 3,
   "metadata": {},
   "outputs": [
    {
     "data": {
      "text/plain": [
       "10.664721647216473"
      ]
     },
     "execution_count": 3,
     "metadata": {},
     "output_type": "execute_result"
    }
   ],
   "source": [
    "np.mean(samples[10:])"
   ]
  },
  {
   "cell_type": "code",
   "execution_count": 4,
   "metadata": {},
   "outputs": [
    {
     "data": {
      "text/plain": [
       "10.666666666666666"
      ]
     },
     "execution_count": 4,
     "metadata": {},
     "output_type": "execute_result"
    }
   ],
   "source": [
    "num_cells * 2 / 3"
   ]
  },
  {
   "cell_type": "code",
   "execution_count": 5,
   "metadata": {},
   "outputs": [
    {
     "data": {
      "text/plain": [
       "(array([     0,      0,      8,     98,    698,   3250,  11874,  34243,\n",
       "         76160, 136324, 190955, 207821, 173315, 105966,  57779]),\n",
       " array([ 0,  1,  2,  3,  4,  5,  6,  7,  8,  9, 10, 11, 12, 13, 14, 15]))"
      ]
     },
     "execution_count": 5,
     "metadata": {},
     "output_type": "execute_result"
    }
   ],
   "source": [
    "np.histogram(samples, range(num_cells))"
   ]
  },
  {
   "cell_type": "code",
   "execution_count": 6,
   "metadata": {},
   "outputs": [
    {
     "data": {
      "text/plain": [
       "(array([0.00000e+00, 0.00000e+00, 8.00000e+00, 9.80000e+01, 6.98000e+02,\n",
       "        3.25000e+03, 1.18740e+04, 3.42430e+04, 7.61600e+04, 1.36324e+05,\n",
       "        1.90955e+05, 2.07821e+05, 1.73315e+05, 1.05966e+05, 5.77790e+04]),\n",
       " array([ 0,  1,  2,  3,  4,  5,  6,  7,  8,  9, 10, 11, 12, 13, 14, 15]),\n",
       " <a list of 15 Patch objects>)"
      ]
     },
     "execution_count": 6,
     "metadata": {},
     "output_type": "execute_result"
    },
    {
     "data": {
      "image/png": "[encoded data removed]",
      "text/plain": [
       "<Figure size 432x288 with 1 Axes>"
      ]
     },
     "metadata": {
      "needs_background": "light"
     },
     "output_type": "display_data"
    }
   ],
   "source": [
    "plt.hist(samples, range(num_cells))"
   ]
  },
  {
   "cell_type": "code",
   "execution_count": 7,
   "metadata": {},
   "outputs": [
    {
     "data": {
      "text/plain": [
       "15.01520715207152"
      ]
     },
     "execution_count": 7,
     "metadata": {},
     "output_type": "execute_result"
    }
   ],
   "source": [
    "np.mean(dists[10:])"
   ]
  },
  {
   "cell_type": "code",
   "execution_count": 8,
   "metadata": {},
   "outputs": [
    {
     "data": {
      "text/plain": [
       "(array([0.00000e+00, 0.00000e+00, 0.00000e+00, 3.00000e+00, 1.50000e+01,\n",
       "        7.50000e+01, 2.43000e+02, 7.41000e+02, 1.72700e+03, 3.69000e+03,\n",
       "        7.66700e+03, 1.55780e+04, 3.10800e+04, 6.21960e+04, 1.24999e+05,\n",
       "        7.51986e+05]),\n",
       " array([ 0,  1,  2,  3,  4,  5,  6,  7,  8,  9, 10, 11, 12, 13, 14, 15, 16]),\n",
       " <a list of 16 Patch objects>)"
      ]
     },
     "execution_count": 8,
     "metadata": {},
     "output_type": "execute_result"
    },
    {
     "data": {
      "image/png": "[encoded data removed]",
      "text/plain": [
       "<Figure size 432x288 with 1 Axes>"
      ]
     },
     "metadata": {
      "needs_background": "light"
     },
     "output_type": "display_data"
    }
   ],
   "source": [
    "plt.hist(dists, range(num_cells+1))"
   ]
  },
  {
   "cell_type": "code",
   "execution_count": null,
   "metadata": {},
   "outputs": [],
   "source": []
  }
 ],
 "metadata": {
  "kernelspec": {
   "display_name": "Python 3",
   "language": "python",
   "name": "python3"
  },
  "language_info": {
   "codemirror_mode": {
    "name": "ipython",
    "version": 3
   },
   "file_extension": ".py",
   "mimetype": "text/x-python",
   "name": "python",
   "nbconvert_exporter": "python",
   "pygments_lexer": "ipython3",
   "version": "3.7.4"
  }
 },
 "nbformat": 4,
 "nbformat_minor": 4
}
